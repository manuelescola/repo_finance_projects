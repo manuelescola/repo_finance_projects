{
 "cells": [
  {
   "cell_type": "code",
   "execution_count": 2,
   "id": "016e4bb4",
   "metadata": {},
   "outputs": [],
   "source": [
    "import yfinance as yf\n",
    "import pandas as pd\n",
    "from datetime import datetime, timedelta"
   ]
  },
  {
   "cell_type": "markdown",
   "id": "7afba0c1",
   "metadata": {},
   "source": [
    "# 1: Define Tickers and Time Range"
   ]
  },
  {
   "cell_type": "code",
   "execution_count": 16,
   "id": "e86a6917",
   "metadata": {},
   "outputs": [],
   "source": [
    "# Define the list of tickers\n",
    "tickers = ['SPY', # Largest SNP ETF\n",
    "           'BND', # Largest Bond ETF\n",
    "           'GLD', # Largest Gold ETF\n",
    "           'VTI'  # Largest World index\n",
    "          ]"
   ]
  },
  {
   "cell_type": "code",
   "execution_count": 19,
   "id": "327542dc",
   "metadata": {},
   "outputs": [],
   "source": [
    "# Set the end date to today\n",
    "end_date = datetime.today()\n",
    "\n",
    "# Set the start date to 2 years\n",
    "start_date = end_date - timedelta(days = 2*365)"
   ]
  },
  {
   "cell_type": "markdown",
   "id": "5446b8ce",
   "metadata": {},
   "source": [
    "# 2: Download Close Prices"
   ]
  },
  {
   "cell_type": "code",
   "execution_count": 13,
   "id": "f649acf7",
   "metadata": {},
   "outputs": [],
   "source": [
    "# Create an empy DataFrame to store the close prices\n",
    "close_df = pd.DataFrame()"
   ]
  },
  {
   "cell_type": "code",
   "execution_count": 23,
   "id": "9cbe4e2a",
   "metadata": {},
   "outputs": [
    {
     "name": "stdout",
     "output_type": "stream",
     "text": [
      "[*********************100%%**********************]  1 of 1 completed\n",
      "[*********************100%%**********************]  1 of 1 completed\n",
      "[*********************100%%**********************]  1 of 1 completed\n",
      "[*********************100%%**********************]  1 of 1 completed\n"
     ]
    }
   ],
   "source": [
    "# Download the close prices for each tickers\n",
    "for ticker in tickers:\n",
    "    data = yf.download(ticker,\n",
    "                       start = start_date,\n",
    "                       end = end_date)\n",
    "    close_df[ticker] = data['Adj Close']"
   ]
  },
  {
   "cell_type": "code",
   "execution_count": 24,
   "id": "2311b735",
   "metadata": {},
   "outputs": [
    {
     "data": {
      "text/html": [
       "<div>\n",
       "<style scoped>\n",
       "    .dataframe tbody tr th:only-of-type {\n",
       "        vertical-align: middle;\n",
       "    }\n",
       "\n",
       "    .dataframe tbody tr th {\n",
       "        vertical-align: top;\n",
       "    }\n",
       "\n",
       "    .dataframe thead th {\n",
       "        text-align: right;\n",
       "    }\n",
       "</style>\n",
       "<table border=\"1\" class=\"dataframe\">\n",
       "  <thead>\n",
       "    <tr style=\"text-align: right;\">\n",
       "      <th></th>\n",
       "      <th>SPY</th>\n",
       "      <th>BND</th>\n",
       "      <th>GLD</th>\n",
       "      <th>VTI</th>\n",
       "    </tr>\n",
       "    <tr>\n",
       "      <th>Date</th>\n",
       "      <th></th>\n",
       "      <th></th>\n",
       "      <th></th>\n",
       "      <th></th>\n",
       "    </tr>\n",
       "  </thead>\n",
       "  <tbody>\n",
       "    <tr>\n",
       "      <th>2021-11-29</th>\n",
       "      <td>450.581268</td>\n",
       "      <td>80.675613</td>\n",
       "      <td>166.619995</td>\n",
       "      <td>230.891022</td>\n",
       "    </tr>\n",
       "    <tr>\n",
       "      <th>2021-11-30</th>\n",
       "      <td>441.814056</td>\n",
       "      <td>80.826988</td>\n",
       "      <td>165.500000</td>\n",
       "      <td>226.277267</td>\n",
       "    </tr>\n",
       "    <tr>\n",
       "      <th>2021-12-01</th>\n",
       "      <td>436.906738</td>\n",
       "      <td>80.879120</td>\n",
       "      <td>166.160004</td>\n",
       "      <td>223.088348</td>\n",
       "    </tr>\n",
       "    <tr>\n",
       "      <th>2021-12-02</th>\n",
       "      <td>443.598511</td>\n",
       "      <td>80.888603</td>\n",
       "      <td>165.240005</td>\n",
       "      <td>226.713425</td>\n",
       "    </tr>\n",
       "    <tr>\n",
       "      <th>2021-12-03</th>\n",
       "      <td>439.738678</td>\n",
       "      <td>81.201340</td>\n",
       "      <td>166.630005</td>\n",
       "      <td>224.086716</td>\n",
       "    </tr>\n",
       "    <tr>\n",
       "      <th>...</th>\n",
       "      <td>...</td>\n",
       "      <td>...</td>\n",
       "      <td>...</td>\n",
       "      <td>...</td>\n",
       "    </tr>\n",
       "    <tr>\n",
       "      <th>2023-11-20</th>\n",
       "      <td>454.260010</td>\n",
       "      <td>70.739998</td>\n",
       "      <td>183.369995</td>\n",
       "      <td>224.789993</td>\n",
       "    </tr>\n",
       "    <tr>\n",
       "      <th>2023-11-21</th>\n",
       "      <td>453.269989</td>\n",
       "      <td>70.839996</td>\n",
       "      <td>185.350006</td>\n",
       "      <td>224.179993</td>\n",
       "    </tr>\n",
       "    <tr>\n",
       "      <th>2023-11-22</th>\n",
       "      <td>455.019989</td>\n",
       "      <td>70.900002</td>\n",
       "      <td>184.559998</td>\n",
       "      <td>225.139999</td>\n",
       "    </tr>\n",
       "    <tr>\n",
       "      <th>2023-11-24</th>\n",
       "      <td>455.299988</td>\n",
       "      <td>70.559998</td>\n",
       "      <td>185.520004</td>\n",
       "      <td>225.380005</td>\n",
       "    </tr>\n",
       "    <tr>\n",
       "      <th>2023-11-27</th>\n",
       "      <td>454.480011</td>\n",
       "      <td>70.989998</td>\n",
       "      <td>186.770004</td>\n",
       "      <td>225.089996</td>\n",
       "    </tr>\n",
       "  </tbody>\n",
       "</table>\n",
       "<p>502 rows × 4 columns</p>\n",
       "</div>"
      ],
      "text/plain": [
       "                   SPY        BND         GLD         VTI\n",
       "Date                                                     \n",
       "2021-11-29  450.581268  80.675613  166.619995  230.891022\n",
       "2021-11-30  441.814056  80.826988  165.500000  226.277267\n",
       "2021-12-01  436.906738  80.879120  166.160004  223.088348\n",
       "2021-12-02  443.598511  80.888603  165.240005  226.713425\n",
       "2021-12-03  439.738678  81.201340  166.630005  224.086716\n",
       "...                ...        ...         ...         ...\n",
       "2023-11-20  454.260010  70.739998  183.369995  224.789993\n",
       "2023-11-21  453.269989  70.839996  185.350006  224.179993\n",
       "2023-11-22  455.019989  70.900002  184.559998  225.139999\n",
       "2023-11-24  455.299988  70.559998  185.520004  225.380005\n",
       "2023-11-27  454.480011  70.989998  186.770004  225.089996\n",
       "\n",
       "[502 rows x 4 columns]"
      ]
     },
     "execution_count": 24,
     "metadata": {},
     "output_type": "execute_result"
    }
   ],
   "source": [
    "close_df"
   ]
  },
  {
   "cell_type": "markdown",
   "id": "a90cff0b",
   "metadata": {},
   "source": [
    "# 3: Set Output Folder and Export Data"
   ]
  },
  {
   "cell_type": "code",
   "execution_count": 32,
   "id": "fa2e9685",
   "metadata": {},
   "outputs": [],
   "source": [
    "# Path in which we want to export it\n",
    "# output_folder = r'(...)'"
   ]
  },
  {
   "cell_type": "code",
   "execution_count": 33,
   "id": "a540158e",
   "metadata": {},
   "outputs": [],
   "source": [
    "close_df.to_csv(f'{output_folder}/stock_prices.csv')"
   ]
  },
  {
   "cell_type": "markdown",
   "id": "20f1a899",
   "metadata": {},
   "source": [
    "# 4: Acknowledgement"
   ]
  },
  {
   "cell_type": "markdown",
   "id": "d7271992",
   "metadata": {},
   "source": [
    "This tutorial has been conducted in a similar way as in the video 'Intro to Python for Finance: A Beginner's Guide\n",
    "', by Ryan O'Connell. <br>\n",
    "Video available at: <br>\n",
    "https://www.youtube.com/watch?v=uOqPElBsBmM&list=PLPe-_ytPHqyg4ap7hysD4pOBJMz0mnLly&index=5&ab_channel=RyanO%27Connell%2CCFA%2CFRM"
   ]
  },
  {
   "cell_type": "code",
   "execution_count": null,
   "id": "90e143b6",
   "metadata": {},
   "outputs": [],
   "source": []
  },
  {
   "cell_type": "code",
   "execution_count": null,
   "id": "ab3ab87c",
   "metadata": {},
   "outputs": [],
   "source": []
  }
 ],
 "metadata": {
  "kernelspec": {
   "display_name": "Python 3 (ipykernel)",
   "language": "python",
   "name": "python3"
  },
  "language_info": {
   "codemirror_mode": {
    "name": "ipython",
    "version": 3
   },
   "file_extension": ".py",
   "mimetype": "text/x-python",
   "name": "python",
   "nbconvert_exporter": "python",
   "pygments_lexer": "ipython3",
   "version": "3.9.12"
  }
 },
 "nbformat": 4,
 "nbformat_minor": 5
}
