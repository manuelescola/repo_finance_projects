{
 "cells": [
  {
   "cell_type": "markdown",
   "id": "2897ff70",
   "metadata": {},
   "source": [
    "# Import necessary libraries"
   ]
  },
  {
   "cell_type": "code",
   "execution_count": 265,
   "id": "23f4f527",
   "metadata": {},
   "outputs": [],
   "source": [
    "import numpy as np\n",
    "import pandas as pd\n",
    "import matplotlib.pyplot as plt\n",
    "import yfinance as yf\n",
    "from datetime import datetime, timedelta\n",
    "from scipy.stats import norm"
   ]
  },
  {
   "cell_type": "markdown",
   "id": "6fced619",
   "metadata": {},
   "source": [
    "# 1. Set time and import relevant data"
   ]
  },
  {
   "cell_type": "code",
   "execution_count": 266,
   "id": "6d666c63",
   "metadata": {},
   "outputs": [],
   "source": [
    "years = 15 \n",
    "end_time = datetime.today()\n",
    "start_time = end_time - timedelta(days = years*365)"
   ]
  },
  {
   "cell_type": "code",
   "execution_count": 267,
   "id": "b19ebaf7",
   "metadata": {},
   "outputs": [],
   "source": [
    "tickers = ['SPY', 'BND', 'GLD', 'QQQ', 'VTI']"
   ]
  },
  {
   "cell_type": "code",
   "execution_count": 268,
   "id": "231be890",
   "metadata": {
    "scrolled": true
   },
   "outputs": [
    {
     "name": "stdout",
     "output_type": "stream",
     "text": [
      "[*********************100%%**********************]  1 of 1 completed\n",
      "[*********************100%%**********************]  1 of 1 completed\n",
      "[*********************100%%**********************]  1 of 1 completed\n",
      "[*********************100%%**********************]  1 of 1 completed\n",
      "[*********************100%%**********************]  1 of 1 completed\n"
     ]
    },
    {
     "data": {
      "text/html": [
       "<div>\n",
       "<style scoped>\n",
       "    .dataframe tbody tr th:only-of-type {\n",
       "        vertical-align: middle;\n",
       "    }\n",
       "\n",
       "    .dataframe tbody tr th {\n",
       "        vertical-align: top;\n",
       "    }\n",
       "\n",
       "    .dataframe thead th {\n",
       "        text-align: right;\n",
       "    }\n",
       "</style>\n",
       "<table border=\"1\" class=\"dataframe\">\n",
       "  <thead>\n",
       "    <tr style=\"text-align: right;\">\n",
       "      <th></th>\n",
       "      <th>SPY</th>\n",
       "      <th>BND</th>\n",
       "      <th>GLD</th>\n",
       "      <th>QQQ</th>\n",
       "      <th>VTI</th>\n",
       "    </tr>\n",
       "    <tr>\n",
       "      <th>Date</th>\n",
       "      <th></th>\n",
       "      <th></th>\n",
       "      <th></th>\n",
       "      <th></th>\n",
       "      <th></th>\n",
       "    </tr>\n",
       "  </thead>\n",
       "  <tbody>\n",
       "    <tr>\n",
       "      <th>2008-12-01</th>\n",
       "      <td>61.450459</td>\n",
       "      <td>49.282436</td>\n",
       "      <td>75.650002</td>\n",
       "      <td>23.557211</td>\n",
       "      <td>30.400911</td>\n",
       "    </tr>\n",
       "    <tr>\n",
       "      <th>2008-12-02</th>\n",
       "      <td>63.815361</td>\n",
       "      <td>49.581329</td>\n",
       "      <td>76.949997</td>\n",
       "      <td>24.344492</td>\n",
       "      <td>31.599165</td>\n",
       "    </tr>\n",
       "    <tr>\n",
       "      <th>2008-12-03</th>\n",
       "      <td>65.349648</td>\n",
       "      <td>49.347416</td>\n",
       "      <td>76.180000</td>\n",
       "      <td>25.035555</td>\n",
       "      <td>32.413071</td>\n",
       "    </tr>\n",
       "    <tr>\n",
       "      <th>2008-12-04</th>\n",
       "      <td>63.837845</td>\n",
       "      <td>49.561848</td>\n",
       "      <td>75.500000</td>\n",
       "      <td>24.326994</td>\n",
       "      <td>31.448444</td>\n",
       "    </tr>\n",
       "    <tr>\n",
       "      <th>2008-12-05</th>\n",
       "      <td>65.806099</td>\n",
       "      <td>49.197952</td>\n",
       "      <td>74.519997</td>\n",
       "      <td>25.315472</td>\n",
       "      <td>32.563793</td>\n",
       "    </tr>\n",
       "    <tr>\n",
       "      <th>...</th>\n",
       "      <td>...</td>\n",
       "      <td>...</td>\n",
       "      <td>...</td>\n",
       "      <td>...</td>\n",
       "      <td>...</td>\n",
       "    </tr>\n",
       "    <tr>\n",
       "      <th>2023-11-21</th>\n",
       "      <td>453.269989</td>\n",
       "      <td>70.839996</td>\n",
       "      <td>185.350006</td>\n",
       "      <td>388.470001</td>\n",
       "      <td>224.179993</td>\n",
       "    </tr>\n",
       "    <tr>\n",
       "      <th>2023-11-22</th>\n",
       "      <td>455.019989</td>\n",
       "      <td>70.900002</td>\n",
       "      <td>184.559998</td>\n",
       "      <td>390.059998</td>\n",
       "      <td>225.139999</td>\n",
       "    </tr>\n",
       "    <tr>\n",
       "      <th>2023-11-24</th>\n",
       "      <td>455.299988</td>\n",
       "      <td>70.559998</td>\n",
       "      <td>185.520004</td>\n",
       "      <td>389.510010</td>\n",
       "      <td>225.380005</td>\n",
       "    </tr>\n",
       "    <tr>\n",
       "      <th>2023-11-27</th>\n",
       "      <td>454.480011</td>\n",
       "      <td>70.989998</td>\n",
       "      <td>186.770004</td>\n",
       "      <td>389.170013</td>\n",
       "      <td>225.089996</td>\n",
       "    </tr>\n",
       "    <tr>\n",
       "      <th>2023-11-28</th>\n",
       "      <td>455.940002</td>\n",
       "      <td>71.195000</td>\n",
       "      <td>189.089996</td>\n",
       "      <td>390.360107</td>\n",
       "      <td>225.759796</td>\n",
       "    </tr>\n",
       "  </tbody>\n",
       "</table>\n",
       "<p>3774 rows × 5 columns</p>\n",
       "</div>"
      ],
      "text/plain": [
       "                   SPY        BND         GLD         QQQ         VTI\n",
       "Date                                                                 \n",
       "2008-12-01   61.450459  49.282436   75.650002   23.557211   30.400911\n",
       "2008-12-02   63.815361  49.581329   76.949997   24.344492   31.599165\n",
       "2008-12-03   65.349648  49.347416   76.180000   25.035555   32.413071\n",
       "2008-12-04   63.837845  49.561848   75.500000   24.326994   31.448444\n",
       "2008-12-05   65.806099  49.197952   74.519997   25.315472   32.563793\n",
       "...                ...        ...         ...         ...         ...\n",
       "2023-11-21  453.269989  70.839996  185.350006  388.470001  224.179993\n",
       "2023-11-22  455.019989  70.900002  184.559998  390.059998  225.139999\n",
       "2023-11-24  455.299988  70.559998  185.520004  389.510010  225.380005\n",
       "2023-11-27  454.480011  70.989998  186.770004  389.170013  225.089996\n",
       "2023-11-28  455.940002  71.195000  189.089996  390.360107  225.759796\n",
       "\n",
       "[3774 rows x 5 columns]"
      ]
     },
     "execution_count": 268,
     "metadata": {},
     "output_type": "execute_result"
    }
   ],
   "source": [
    "adj_close_df = pd.DataFrame()\n",
    "\n",
    "for ticker in tickers:\n",
    "    data = yf.download(ticker,\n",
    "                       start = start_time,\n",
    "                       end = end_time)\n",
    "    adj_close_df[ticker] = data['Adj Close']\n",
    "adj_close_df"
   ]
  },
  {
   "cell_type": "markdown",
   "id": "a41838f2",
   "metadata": {},
   "source": [
    "# 2. Computing Returns and Variability"
   ]
  },
  {
   "cell_type": "markdown",
   "id": "3c868d4d",
   "metadata": {},
   "source": [
    "## Compute the Daily Log Returns"
   ]
  },
  {
   "cell_type": "code",
   "execution_count": 269,
   "id": "2f3f3d9a",
   "metadata": {},
   "outputs": [
    {
     "data": {
      "text/html": [
       "<div>\n",
       "<style scoped>\n",
       "    .dataframe tbody tr th:only-of-type {\n",
       "        vertical-align: middle;\n",
       "    }\n",
       "\n",
       "    .dataframe tbody tr th {\n",
       "        vertical-align: top;\n",
       "    }\n",
       "\n",
       "    .dataframe thead th {\n",
       "        text-align: right;\n",
       "    }\n",
       "</style>\n",
       "<table border=\"1\" class=\"dataframe\">\n",
       "  <thead>\n",
       "    <tr style=\"text-align: right;\">\n",
       "      <th></th>\n",
       "      <th>SPY</th>\n",
       "      <th>BND</th>\n",
       "      <th>GLD</th>\n",
       "      <th>QQQ</th>\n",
       "      <th>VTI</th>\n",
       "    </tr>\n",
       "    <tr>\n",
       "      <th>Date</th>\n",
       "      <th></th>\n",
       "      <th></th>\n",
       "      <th></th>\n",
       "      <th></th>\n",
       "      <th></th>\n",
       "    </tr>\n",
       "  </thead>\n",
       "  <tbody>\n",
       "    <tr>\n",
       "      <th>2008-12-02</th>\n",
       "      <td>0.037763</td>\n",
       "      <td>0.006047</td>\n",
       "      <td>0.017038</td>\n",
       "      <td>0.032874</td>\n",
       "      <td>0.038658</td>\n",
       "    </tr>\n",
       "    <tr>\n",
       "      <th>2008-12-03</th>\n",
       "      <td>0.023758</td>\n",
       "      <td>-0.004729</td>\n",
       "      <td>-0.010057</td>\n",
       "      <td>0.027991</td>\n",
       "      <td>0.025431</td>\n",
       "    </tr>\n",
       "    <tr>\n",
       "      <th>2008-12-04</th>\n",
       "      <td>-0.023406</td>\n",
       "      <td>0.004336</td>\n",
       "      <td>-0.008966</td>\n",
       "      <td>-0.028710</td>\n",
       "      <td>-0.030212</td>\n",
       "    </tr>\n",
       "    <tr>\n",
       "      <th>2008-12-05</th>\n",
       "      <td>0.030366</td>\n",
       "      <td>-0.007369</td>\n",
       "      <td>-0.013065</td>\n",
       "      <td>0.039829</td>\n",
       "      <td>0.034852</td>\n",
       "    </tr>\n",
       "    <tr>\n",
       "      <th>2008-12-08</th>\n",
       "      <td>0.034319</td>\n",
       "      <td>-0.004369</td>\n",
       "      <td>0.022294</td>\n",
       "      <td>0.038636</td>\n",
       "      <td>0.037475</td>\n",
       "    </tr>\n",
       "    <tr>\n",
       "      <th>...</th>\n",
       "      <td>...</td>\n",
       "      <td>...</td>\n",
       "      <td>...</td>\n",
       "      <td>...</td>\n",
       "      <td>...</td>\n",
       "    </tr>\n",
       "    <tr>\n",
       "      <th>2023-11-21</th>\n",
       "      <td>-0.002182</td>\n",
       "      <td>0.001413</td>\n",
       "      <td>0.010740</td>\n",
       "      <td>-0.005826</td>\n",
       "      <td>-0.002717</td>\n",
       "    </tr>\n",
       "    <tr>\n",
       "      <th>2023-11-22</th>\n",
       "      <td>0.003853</td>\n",
       "      <td>0.000847</td>\n",
       "      <td>-0.004271</td>\n",
       "      <td>0.004085</td>\n",
       "      <td>0.004273</td>\n",
       "    </tr>\n",
       "    <tr>\n",
       "      <th>2023-11-24</th>\n",
       "      <td>0.000615</td>\n",
       "      <td>-0.004807</td>\n",
       "      <td>0.005188</td>\n",
       "      <td>-0.001411</td>\n",
       "      <td>0.001065</td>\n",
       "    </tr>\n",
       "    <tr>\n",
       "      <th>2023-11-27</th>\n",
       "      <td>-0.001803</td>\n",
       "      <td>0.006076</td>\n",
       "      <td>0.006715</td>\n",
       "      <td>-0.000873</td>\n",
       "      <td>-0.001288</td>\n",
       "    </tr>\n",
       "    <tr>\n",
       "      <th>2023-11-28</th>\n",
       "      <td>0.003207</td>\n",
       "      <td>0.002884</td>\n",
       "      <td>0.012345</td>\n",
       "      <td>0.003053</td>\n",
       "      <td>0.002971</td>\n",
       "    </tr>\n",
       "  </tbody>\n",
       "</table>\n",
       "<p>3773 rows × 5 columns</p>\n",
       "</div>"
      ],
      "text/plain": [
       "                 SPY       BND       GLD       QQQ       VTI\n",
       "Date                                                        \n",
       "2008-12-02  0.037763  0.006047  0.017038  0.032874  0.038658\n",
       "2008-12-03  0.023758 -0.004729 -0.010057  0.027991  0.025431\n",
       "2008-12-04 -0.023406  0.004336 -0.008966 -0.028710 -0.030212\n",
       "2008-12-05  0.030366 -0.007369 -0.013065  0.039829  0.034852\n",
       "2008-12-08  0.034319 -0.004369  0.022294  0.038636  0.037475\n",
       "...              ...       ...       ...       ...       ...\n",
       "2023-11-21 -0.002182  0.001413  0.010740 -0.005826 -0.002717\n",
       "2023-11-22  0.003853  0.000847 -0.004271  0.004085  0.004273\n",
       "2023-11-24  0.000615 -0.004807  0.005188 -0.001411  0.001065\n",
       "2023-11-27 -0.001803  0.006076  0.006715 -0.000873 -0.001288\n",
       "2023-11-28  0.003207  0.002884  0.012345  0.003053  0.002971\n",
       "\n",
       "[3773 rows x 5 columns]"
      ]
     },
     "execution_count": 269,
     "metadata": {},
     "output_type": "execute_result"
    }
   ],
   "source": [
    "# Log returns\n",
    "log_returns_df = np.log(adj_close_df/adj_close_df.shift(1))\n",
    "log_returns_df.dropna(inplace=True)\n",
    "log_returns_df"
   ]
  },
  {
   "cell_type": "code",
   "execution_count": 270,
   "id": "dedfd444",
   "metadata": {},
   "outputs": [],
   "source": [
    "# # Cummulative log returns\n",
    "# cum_log_returns_df = log_returns_df.cumsum()\n",
    "# cum_log_returns_df"
   ]
  },
  {
   "cell_type": "markdown",
   "id": "026fb0e6",
   "metadata": {},
   "source": [
    "## Function to compute the Portfolio Expected Returns"
   ]
  },
  {
   "cell_type": "markdown",
   "id": "cf2d68d4",
   "metadata": {},
   "source": [
    "Here, we should compute the expected returns in a more realistic way. However, how to compute the expected returns is out of the scope of this tutorial, so we assume that they are the average of all the past years available."
   ]
  },
  {
   "cell_type": "code",
   "execution_count": 271,
   "id": "d8e46cc3",
   "metadata": {},
   "outputs": [],
   "source": [
    "def expected_return(weights, log_returns):\n",
    "    return np.sum(log_returns.mean() * weights.T)"
   ]
  },
  {
   "cell_type": "code",
   "execution_count": 272,
   "id": "fce8cd68",
   "metadata": {},
   "outputs": [],
   "source": [
    "# # Another (less efficient) way to do it would be:\n",
    "# def expected_return(weights, log_returns):\n",
    "#     return np.sum(log_returns @ weights.T)/len(log_returns)"
   ]
  },
  {
   "cell_type": "markdown",
   "id": "9debf8b1",
   "metadata": {},
   "source": [
    "## Function to compute the Portfolio Expected Returns"
   ]
  },
  {
   "cell_type": "code",
   "execution_count": 273,
   "id": "26b9b656",
   "metadata": {},
   "outputs": [],
   "source": [
    "def standard_deviation(weights, cov_matrix):\n",
    "    variance = weights.T @ cov_matrix @ weights\n",
    "    return np.sqrt(variance)"
   ]
  },
  {
   "cell_type": "code",
   "execution_count": 274,
   "id": "2e367894",
   "metadata": {},
   "outputs": [],
   "source": [
    "# # Another way to do it would be:\n",
    "# def standard_deviation(weights, log_returns):\n",
    "#     return (log_returns @ weights.T).std()"
   ]
  },
  {
   "cell_type": "markdown",
   "id": "a45e7917",
   "metadata": {},
   "source": [
    "## Create Covariance Matrix for the securities portfolio"
   ]
  },
  {
   "cell_type": "code",
   "execution_count": 275,
   "id": "a3a1d75e",
   "metadata": {},
   "outputs": [],
   "source": [
    " cov_log_returns_df = log_returns_df.cov()"
   ]
  },
  {
   "cell_type": "code",
   "execution_count": 276,
   "id": "2b122d9a",
   "metadata": {
    "scrolled": true
   },
   "outputs": [
    {
     "data": {
      "text/html": [
       "<div>\n",
       "<style scoped>\n",
       "    .dataframe tbody tr th:only-of-type {\n",
       "        vertical-align: middle;\n",
       "    }\n",
       "\n",
       "    .dataframe tbody tr th {\n",
       "        vertical-align: top;\n",
       "    }\n",
       "\n",
       "    .dataframe thead th {\n",
       "        text-align: right;\n",
       "    }\n",
       "</style>\n",
       "<table border=\"1\" class=\"dataframe\">\n",
       "  <thead>\n",
       "    <tr style=\"text-align: right;\">\n",
       "      <th></th>\n",
       "      <th>SPY</th>\n",
       "      <th>BND</th>\n",
       "      <th>GLD</th>\n",
       "      <th>QQQ</th>\n",
       "      <th>VTI</th>\n",
       "    </tr>\n",
       "  </thead>\n",
       "  <tbody>\n",
       "    <tr>\n",
       "      <th>SPY</th>\n",
       "      <td>1.329455e-04</td>\n",
       "      <td>-9.981611e-07</td>\n",
       "      <td>0.000006</td>\n",
       "      <td>1.425370e-04</td>\n",
       "      <td>1.357175e-04</td>\n",
       "    </tr>\n",
       "    <tr>\n",
       "      <th>BND</th>\n",
       "      <td>-9.981611e-07</td>\n",
       "      <td>9.330141e-06</td>\n",
       "      <td>0.000009</td>\n",
       "      <td>-2.088510e-07</td>\n",
       "      <td>-8.946833e-07</td>\n",
       "    </tr>\n",
       "    <tr>\n",
       "      <th>GLD</th>\n",
       "      <td>5.507243e-06</td>\n",
       "      <td>8.832321e-06</td>\n",
       "      <td>0.000102</td>\n",
       "      <td>5.807656e-06</td>\n",
       "      <td>6.031180e-06</td>\n",
       "    </tr>\n",
       "    <tr>\n",
       "      <th>QQQ</th>\n",
       "      <td>1.425370e-04</td>\n",
       "      <td>-2.088510e-07</td>\n",
       "      <td>0.000006</td>\n",
       "      <td>1.777968e-04</td>\n",
       "      <td>1.458861e-04</td>\n",
       "    </tr>\n",
       "    <tr>\n",
       "      <th>VTI</th>\n",
       "      <td>1.357175e-04</td>\n",
       "      <td>-8.946833e-07</td>\n",
       "      <td>0.000006</td>\n",
       "      <td>1.458861e-04</td>\n",
       "      <td>1.397080e-04</td>\n",
       "    </tr>\n",
       "  </tbody>\n",
       "</table>\n",
       "</div>"
      ],
      "text/plain": [
       "              SPY           BND       GLD           QQQ           VTI\n",
       "SPY  1.329455e-04 -9.981611e-07  0.000006  1.425370e-04  1.357175e-04\n",
       "BND -9.981611e-07  9.330141e-06  0.000009 -2.088510e-07 -8.946833e-07\n",
       "GLD  5.507243e-06  8.832321e-06  0.000102  5.807656e-06  6.031180e-06\n",
       "QQQ  1.425370e-04 -2.088510e-07  0.000006  1.777968e-04  1.458861e-04\n",
       "VTI  1.357175e-04 -8.946833e-07  0.000006  1.458861e-04  1.397080e-04"
      ]
     },
     "execution_count": 276,
     "metadata": {},
     "output_type": "execute_result"
    }
   ],
   "source": [
    "cov_log_returns_df"
   ]
  },
  {
   "cell_type": "markdown",
   "id": "ae831b89",
   "metadata": {},
   "source": [
    "## Create a weighted portfolio and find total portfolio expected return and standard deviation"
   ]
  },
  {
   "cell_type": "code",
   "execution_count": 277,
   "id": "4f5393df",
   "metadata": {},
   "outputs": [
    {
     "data": {
      "text/plain": [
       "array([0.2, 0.2, 0.2, 0.2, 0.2])"
      ]
     },
     "execution_count": 277,
     "metadata": {},
     "output_type": "execute_result"
    }
   ],
   "source": [
    "portfolio_value = 1000000\n",
    "weights = np.array([1/len(tickers)]*len(tickers))\n",
    "weights"
   ]
  },
  {
   "cell_type": "code",
   "execution_count": 278,
   "id": "76cdc6eb",
   "metadata": {},
   "outputs": [
    {
     "name": "stdout",
     "output_type": "stream",
     "text": [
      "0.0004\n",
      "0.0342\n"
     ]
    }
   ],
   "source": [
    "portfolio_expected_return = expected_return(weights, log_returns_df)\n",
    "portfolio_std_dev = standard_deviation(weights, cov_log_returns_df)\n",
    "\n",
    "print(round(portfolio_expected_return,4))\n",
    "print(round(portfolio_standard_deviation, 4))"
   ]
  },
  {
   "cell_type": "markdown",
   "id": "94fef584",
   "metadata": {},
   "source": [
    "# 3. Monte Carlo Simulation"
   ]
  },
  {
   "cell_type": "markdown",
   "id": "601d0afb",
   "metadata": {},
   "source": [
    "## Create a function that gives a random Z-score based on normal distribution"
   ]
  },
  {
   "cell_type": "code",
   "execution_count": 279,
   "id": "3a8d6f87",
   "metadata": {},
   "outputs": [],
   "source": [
    "def random_z_score():\n",
    "    return np.random.normal(0,1)"
   ]
  },
  {
   "cell_type": "markdown",
   "id": "7178c719",
   "metadata": {},
   "source": [
    "## Create a function to calculate scenarioGainLoss"
   ]
  },
  {
   "cell_type": "code",
   "execution_count": 280,
   "id": "a6d6ad87",
   "metadata": {},
   "outputs": [],
   "source": [
    "def scenario_gain_loss(portfolio_value, z_score, days):\n",
    "    return portfolio_value * portfolio_expected_return * days + portfolio_value * portfolio_std_dev * z_score * np.sqrt(days)"
   ]
  },
  {
   "cell_type": "markdown",
   "id": "09175301",
   "metadata": {},
   "source": [
    "## Run 10,000 simulations for the return of 20 days"
   ]
  },
  {
   "cell_type": "code",
   "execution_count": 281,
   "id": "d6ae3568",
   "metadata": {},
   "outputs": [
    {
     "data": {
      "text/plain": [
       "array([-28658.10029641,  62077.80344337,   6936.30269163, -52354.07600883,\n",
       "       -22826.75898666,  16569.27654237, -12246.22174072,  40595.67515526,\n",
       "       -96869.43046414,  21415.12852054])"
      ]
     },
     "execution_count": 281,
     "metadata": {},
     "output_type": "execute_result"
    }
   ],
   "source": [
    "days = 20\n",
    "simulations = 10000\n",
    "scenarioReturn = []\n",
    "\n",
    "for i in range(simulations):\n",
    "    z_score = random_z_score()\n",
    "    simulation_result = scenario_gain_loss(portfolio_value, z_score, days)\n",
    "    scenarioReturn.append(simulation_result)\n",
    "\n",
    "np.array(scenarioReturn[:10])"
   ]
  },
  {
   "cell_type": "markdown",
   "id": "38f4166f",
   "metadata": {},
   "source": [
    "# 4. Value at Risk"
   ]
  },
  {
   "cell_type": "code",
   "execution_count": 282,
   "id": "099dbe0d",
   "metadata": {},
   "outputs": [
    {
     "data": {
      "text/plain": [
       "-47816.64124522986"
      ]
     },
     "execution_count": 282,
     "metadata": {},
     "output_type": "execute_result"
    }
   ],
   "source": [
    "confidence_interval = 0.95\n",
    "\n",
    "VaR = np.percentile(scenarioReturn, 100*(1-confidence_interval))\n",
    "VaR"
   ]
  },
  {
   "cell_type": "code",
   "execution_count": 283,
   "id": "e19b8cf3",
   "metadata": {
    "scrolled": true
   },
   "outputs": [
    {
     "data": {
      "image/png": "[encoded data removed]",
      "text/plain": [
       "<Figure size 576x216 with 1 Axes>"
      ]
     },
     "metadata": {
      "needs_background": "light"
     },
     "output_type": "display_data"
    }
   ],
   "source": [
    "plt.figure(figsize=(8, 3))\n",
    "\n",
    "plt.hist(scenarioReturn, bins=50, density=True)\n",
    "plt.xlabel('Scenario Gain/Loss ($)')\n",
    "plt.ylabel('Frequency')\n",
    "plt.title(f'Distribution of the Portfolio Expected Returns.\\nWindow: {days} days ')\n",
    "plt.axvline(VaR, color='r', linestyle='dashed', \n",
    "            label=f'VaR at {confidence_interval:.0%}\\nconfidence\\ninterval')\n",
    "plt.legend()\n",
    "plt.show()"
   ]
  },
  {
   "cell_type": "markdown",
   "id": "20f1a899",
   "metadata": {},
   "source": [
    "# 5: Acknowledgement"
   ]
  },
  {
   "cell_type": "markdown",
   "id": "d7271992",
   "metadata": {},
   "source": [
    "This tutorial has been conducted following the video 'Value at Risk (VaR) In Python: Monte Carlo Method', by Ryan O'Connell. <br>\n",
    "Video available at: <br>\n",
    "https://www.youtube.com/watch?v=X8aNFXJEENs&list=PLPe-_ytPHqyg4ap7hysD4pOBJMz0mnLly&index=5&ab_channel=RyanO%27Connell%2CCFA%2CFRM"
   ]
  },
  {
   "cell_type": "code",
   "execution_count": null,
   "id": "07bc7037",
   "metadata": {},
   "outputs": [],
   "source": []
  }
 ],
 "metadata": {
  "kernelspec": {
   "display_name": "Python 3 (ipykernel)",
   "language": "python",
   "name": "python3"
  },
  "language_info": {
   "codemirror_mode": {
    "name": "ipython",
    "version": 3
   },
   "file_extension": ".py",
   "mimetype": "text/x-python",
   "name": "python",
   "nbconvert_exporter": "python",
   "pygments_lexer": "ipython3",
   "version": "3.9.12"
  }
 },
 "nbformat": 4,
 "nbformat_minor": 5
}
