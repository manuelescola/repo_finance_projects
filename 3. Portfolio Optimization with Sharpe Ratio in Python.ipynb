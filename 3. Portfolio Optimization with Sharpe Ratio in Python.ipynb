{
 "cells": [
  {
   "cell_type": "markdown",
   "id": "5ab7c5d7",
   "metadata": {},
   "source": [
    "# Portfolio optimization"
   ]
  },
  {
   "cell_type": "markdown",
   "id": "3e37eb83",
   "metadata": {},
   "source": [
    "## Import required libraries"
   ]
  },
  {
   "cell_type": "code",
   "execution_count": 49,
   "id": "c8adf92f",
   "metadata": {},
   "outputs": [],
   "source": [
    "# !pip install --user yfinance"
   ]
  },
  {
   "cell_type": "code",
   "execution_count": 50,
   "id": "bbb398fe",
   "metadata": {},
   "outputs": [],
   "source": [
    "import yfinance as yf\n",
    "import pandas as pd\n",
    "from datetime import datetime, timedelta\n",
    "import numpy as np\n",
    "from scipy.optimize import minimize"
   ]
  },
  {
   "cell_type": "markdown",
   "id": "1b331d33",
   "metadata": {},
   "source": [
    "# 1: Define Tickers and Time Range"
   ]
  },
  {
   "cell_type": "code",
   "execution_count": 51,
   "id": "6921eeac",
   "metadata": {},
   "outputs": [],
   "source": [
    "# Define tickers and time range\n",
    "tickers = ['SPY', # 'SPY': Most popular SnP index\n",
    "           'BND', # 'BND': Most popular bond index\n",
    "           'GLD', # 'GLD': Largest commodity based ETF\n",
    "           'QQQ', # 'QQQ': Largest Nasdaq ETF\n",
    "           'VTI'  # 'VTI': Entire world stock market\n",
    "          ]"
   ]
  },
  {
   "cell_type": "code",
   "execution_count": 52,
   "id": "fd56dc53",
   "metadata": {},
   "outputs": [],
   "source": [
    "# Save the end date to today\n",
    "end_date = datetime.today()"
   ]
  },
  {
   "cell_type": "code",
   "execution_count": 53,
   "id": "d1381eb3",
   "metadata": {},
   "outputs": [
    {
     "name": "stdout",
     "output_type": "stream",
     "text": [
      "2018-11-28 18:53:21.100346\n"
     ]
    }
   ],
   "source": [
    "# Grab the date from 5 years ago\n",
    "start_date = end_date - timedelta(days = 5*365)\n",
    "print(start_date)"
   ]
  },
  {
   "cell_type": "markdown",
   "id": "c431ed78",
   "metadata": {},
   "source": [
    "# 2: Download Adjusted Close Prices"
   ]
  },
  {
   "cell_type": "markdown",
   "id": "012bb495",
   "metadata": {},
   "source": [
    "Adjusted close prices includes dividends, stock splits and other financial events."
   ]
  },
  {
   "cell_type": "code",
   "execution_count": 54,
   "id": "aca82834",
   "metadata": {},
   "outputs": [
    {
     "name": "stdout",
     "output_type": "stream",
     "text": [
      "[*********************100%%**********************]  1 of 1 completed\n"
     ]
    },
    {
     "data": {
      "text/html": [
       "<div>\n",
       "<style scoped>\n",
       "    .dataframe tbody tr th:only-of-type {\n",
       "        vertical-align: middle;\n",
       "    }\n",
       "\n",
       "    .dataframe tbody tr th {\n",
       "        vertical-align: top;\n",
       "    }\n",
       "\n",
       "    .dataframe thead th {\n",
       "        text-align: right;\n",
       "    }\n",
       "</style>\n",
       "<table border=\"1\" class=\"dataframe\">\n",
       "  <thead>\n",
       "    <tr style=\"text-align: right;\">\n",
       "      <th></th>\n",
       "      <th>Open</th>\n",
       "      <th>High</th>\n",
       "      <th>Low</th>\n",
       "      <th>Close</th>\n",
       "      <th>Adj Close</th>\n",
       "      <th>Volume</th>\n",
       "    </tr>\n",
       "    <tr>\n",
       "      <th>Date</th>\n",
       "      <th></th>\n",
       "      <th></th>\n",
       "      <th></th>\n",
       "      <th></th>\n",
       "      <th></th>\n",
       "      <th></th>\n",
       "    </tr>\n",
       "  </thead>\n",
       "  <tbody>\n",
       "    <tr>\n",
       "      <th>2018-11-28</th>\n",
       "      <td>269.600006</td>\n",
       "      <td>274.579987</td>\n",
       "      <td>268.329987</td>\n",
       "      <td>274.579987</td>\n",
       "      <td>252.594528</td>\n",
       "      <td>127629600</td>\n",
       "    </tr>\n",
       "    <tr>\n",
       "      <th>2018-11-29</th>\n",
       "      <td>273.709991</td>\n",
       "      <td>275.549988</td>\n",
       "      <td>272.429993</td>\n",
       "      <td>273.980011</td>\n",
       "      <td>252.042603</td>\n",
       "      <td>82346400</td>\n",
       "    </tr>\n",
       "    <tr>\n",
       "      <th>2018-11-30</th>\n",
       "      <td>273.809998</td>\n",
       "      <td>276.279999</td>\n",
       "      <td>273.450012</td>\n",
       "      <td>275.649994</td>\n",
       "      <td>253.578949</td>\n",
       "      <td>98204200</td>\n",
       "    </tr>\n",
       "    <tr>\n",
       "      <th>2018-12-03</th>\n",
       "      <td>280.279999</td>\n",
       "      <td>280.399994</td>\n",
       "      <td>277.510010</td>\n",
       "      <td>279.299988</td>\n",
       "      <td>256.936676</td>\n",
       "      <td>103176300</td>\n",
       "    </tr>\n",
       "    <tr>\n",
       "      <th>2018-12-04</th>\n",
       "      <td>278.369995</td>\n",
       "      <td>278.850006</td>\n",
       "      <td>269.899994</td>\n",
       "      <td>270.250000</td>\n",
       "      <td>248.611237</td>\n",
       "      <td>177986000</td>\n",
       "    </tr>\n",
       "    <tr>\n",
       "      <th>...</th>\n",
       "      <td>...</td>\n",
       "      <td>...</td>\n",
       "      <td>...</td>\n",
       "      <td>...</td>\n",
       "      <td>...</td>\n",
       "      <td>...</td>\n",
       "    </tr>\n",
       "    <tr>\n",
       "      <th>2023-11-20</th>\n",
       "      <td>450.529999</td>\n",
       "      <td>455.130005</td>\n",
       "      <td>450.519989</td>\n",
       "      <td>454.260010</td>\n",
       "      <td>454.260010</td>\n",
       "      <td>69936200</td>\n",
       "    </tr>\n",
       "    <tr>\n",
       "      <th>2023-11-21</th>\n",
       "      <td>453.179993</td>\n",
       "      <td>454.130005</td>\n",
       "      <td>451.959991</td>\n",
       "      <td>453.269989</td>\n",
       "      <td>453.269989</td>\n",
       "      <td>49244600</td>\n",
       "    </tr>\n",
       "    <tr>\n",
       "      <th>2023-11-22</th>\n",
       "      <td>454.980011</td>\n",
       "      <td>456.380005</td>\n",
       "      <td>453.890015</td>\n",
       "      <td>455.019989</td>\n",
       "      <td>455.019989</td>\n",
       "      <td>59394900</td>\n",
       "    </tr>\n",
       "    <tr>\n",
       "      <th>2023-11-24</th>\n",
       "      <td>455.070007</td>\n",
       "      <td>455.500000</td>\n",
       "      <td>454.730011</td>\n",
       "      <td>455.299988</td>\n",
       "      <td>455.299988</td>\n",
       "      <td>29737400</td>\n",
       "    </tr>\n",
       "    <tr>\n",
       "      <th>2023-11-27</th>\n",
       "      <td>454.649994</td>\n",
       "      <td>455.490112</td>\n",
       "      <td>454.079895</td>\n",
       "      <td>455.114990</td>\n",
       "      <td>455.114990</td>\n",
       "      <td>27243313</td>\n",
       "    </tr>\n",
       "  </tbody>\n",
       "</table>\n",
       "<p>1257 rows × 6 columns</p>\n",
       "</div>"
      ],
      "text/plain": [
       "                  Open        High         Low       Close   Adj Close  \\\n",
       "Date                                                                     \n",
       "2018-11-28  269.600006  274.579987  268.329987  274.579987  252.594528   \n",
       "2018-11-29  273.709991  275.549988  272.429993  273.980011  252.042603   \n",
       "2018-11-30  273.809998  276.279999  273.450012  275.649994  253.578949   \n",
       "2018-12-03  280.279999  280.399994  277.510010  279.299988  256.936676   \n",
       "2018-12-04  278.369995  278.850006  269.899994  270.250000  248.611237   \n",
       "...                ...         ...         ...         ...         ...   \n",
       "2023-11-20  450.529999  455.130005  450.519989  454.260010  454.260010   \n",
       "2023-11-21  453.179993  454.130005  451.959991  453.269989  453.269989   \n",
       "2023-11-22  454.980011  456.380005  453.890015  455.019989  455.019989   \n",
       "2023-11-24  455.070007  455.500000  454.730011  455.299988  455.299988   \n",
       "2023-11-27  454.649994  455.490112  454.079895  455.114990  455.114990   \n",
       "\n",
       "               Volume  \n",
       "Date                   \n",
       "2018-11-28  127629600  \n",
       "2018-11-29   82346400  \n",
       "2018-11-30   98204200  \n",
       "2018-12-03  103176300  \n",
       "2018-12-04  177986000  \n",
       "...               ...  \n",
       "2023-11-20   69936200  \n",
       "2023-11-21   49244600  \n",
       "2023-11-22   59394900  \n",
       "2023-11-24   29737400  \n",
       "2023-11-27   27243313  \n",
       "\n",
       "[1257 rows x 6 columns]"
      ]
     },
     "execution_count": 54,
     "metadata": {},
     "output_type": "execute_result"
    }
   ],
   "source": [
    "data = yf.download('SPY', start = start_date, end = end_date)\n",
    "data"
   ]
  },
  {
   "cell_type": "code",
   "execution_count": 55,
   "id": "b0dc3014",
   "metadata": {},
   "outputs": [
    {
     "name": "stdout",
     "output_type": "stream",
     "text": [
      "[*********************100%%**********************]  1 of 1 completed\n",
      "[*********************100%%**********************]  1 of 1 completed\n",
      "[*********************100%%**********************]  1 of 1 completed\n",
      "[*********************100%%**********************]  1 of 1 completed\n",
      "[*********************100%%**********************]  1 of 1 completed\n"
     ]
    },
    {
     "data": {
      "text/html": [
       "<div>\n",
       "<style scoped>\n",
       "    .dataframe tbody tr th:only-of-type {\n",
       "        vertical-align: middle;\n",
       "    }\n",
       "\n",
       "    .dataframe tbody tr th {\n",
       "        vertical-align: top;\n",
       "    }\n",
       "\n",
       "    .dataframe thead th {\n",
       "        text-align: right;\n",
       "    }\n",
       "</style>\n",
       "<table border=\"1\" class=\"dataframe\">\n",
       "  <thead>\n",
       "    <tr style=\"text-align: right;\">\n",
       "      <th></th>\n",
       "      <th>SPY</th>\n",
       "      <th>BND</th>\n",
       "      <th>GLD</th>\n",
       "      <th>QQQ</th>\n",
       "      <th>VTI</th>\n",
       "    </tr>\n",
       "    <tr>\n",
       "      <th>Date</th>\n",
       "      <th></th>\n",
       "      <th></th>\n",
       "      <th></th>\n",
       "      <th></th>\n",
       "      <th></th>\n",
       "    </tr>\n",
       "  </thead>\n",
       "  <tbody>\n",
       "    <tr>\n",
       "      <th>2018-11-28</th>\n",
       "      <td>252.594528</td>\n",
       "      <td>68.668808</td>\n",
       "      <td>115.379997</td>\n",
       "      <td>163.182281</td>\n",
       "      <td>129.358841</td>\n",
       "    </tr>\n",
       "    <tr>\n",
       "      <th>2018-11-29</th>\n",
       "      <td>252.042603</td>\n",
       "      <td>68.721626</td>\n",
       "      <td>115.739998</td>\n",
       "      <td>162.650284</td>\n",
       "      <td>129.119629</td>\n",
       "    </tr>\n",
       "    <tr>\n",
       "      <th>2018-11-30</th>\n",
       "      <td>253.578949</td>\n",
       "      <td>68.748016</td>\n",
       "      <td>115.540001</td>\n",
       "      <td>163.830414</td>\n",
       "      <td>130.048874</td>\n",
       "    </tr>\n",
       "    <tr>\n",
       "      <th>2018-12-03</th>\n",
       "      <td>256.936676</td>\n",
       "      <td>68.855598</td>\n",
       "      <td>116.410004</td>\n",
       "      <td>166.693542</td>\n",
       "      <td>131.566956</td>\n",
       "    </tr>\n",
       "    <tr>\n",
       "      <th>2018-12-04</th>\n",
       "      <td>248.611237</td>\n",
       "      <td>69.023186</td>\n",
       "      <td>117.120003</td>\n",
       "      <td>160.299728</td>\n",
       "      <td>127.270340</td>\n",
       "    </tr>\n",
       "    <tr>\n",
       "      <th>...</th>\n",
       "      <td>...</td>\n",
       "      <td>...</td>\n",
       "      <td>...</td>\n",
       "      <td>...</td>\n",
       "      <td>...</td>\n",
       "    </tr>\n",
       "    <tr>\n",
       "      <th>2023-11-20</th>\n",
       "      <td>454.260010</td>\n",
       "      <td>70.739998</td>\n",
       "      <td>183.369995</td>\n",
       "      <td>390.739990</td>\n",
       "      <td>224.789993</td>\n",
       "    </tr>\n",
       "    <tr>\n",
       "      <th>2023-11-21</th>\n",
       "      <td>453.269989</td>\n",
       "      <td>70.839996</td>\n",
       "      <td>185.350006</td>\n",
       "      <td>388.470001</td>\n",
       "      <td>224.179993</td>\n",
       "    </tr>\n",
       "    <tr>\n",
       "      <th>2023-11-22</th>\n",
       "      <td>455.019989</td>\n",
       "      <td>70.900002</td>\n",
       "      <td>184.559998</td>\n",
       "      <td>390.059998</td>\n",
       "      <td>225.139999</td>\n",
       "    </tr>\n",
       "    <tr>\n",
       "      <th>2023-11-24</th>\n",
       "      <td>455.299988</td>\n",
       "      <td>70.559998</td>\n",
       "      <td>185.520004</td>\n",
       "      <td>389.510010</td>\n",
       "      <td>225.380005</td>\n",
       "    </tr>\n",
       "    <tr>\n",
       "      <th>2023-11-27</th>\n",
       "      <td>455.114990</td>\n",
       "      <td>70.889999</td>\n",
       "      <td>186.595001</td>\n",
       "      <td>390.295013</td>\n",
       "      <td>225.330002</td>\n",
       "    </tr>\n",
       "  </tbody>\n",
       "</table>\n",
       "<p>1257 rows × 5 columns</p>\n",
       "</div>"
      ],
      "text/plain": [
       "                   SPY        BND         GLD         QQQ         VTI\n",
       "Date                                                                 \n",
       "2018-11-28  252.594528  68.668808  115.379997  163.182281  129.358841\n",
       "2018-11-29  252.042603  68.721626  115.739998  162.650284  129.119629\n",
       "2018-11-30  253.578949  68.748016  115.540001  163.830414  130.048874\n",
       "2018-12-03  256.936676  68.855598  116.410004  166.693542  131.566956\n",
       "2018-12-04  248.611237  69.023186  117.120003  160.299728  127.270340\n",
       "...                ...        ...         ...         ...         ...\n",
       "2023-11-20  454.260010  70.739998  183.369995  390.739990  224.789993\n",
       "2023-11-21  453.269989  70.839996  185.350006  388.470001  224.179993\n",
       "2023-11-22  455.019989  70.900002  184.559998  390.059998  225.139999\n",
       "2023-11-24  455.299988  70.559998  185.520004  389.510010  225.380005\n",
       "2023-11-27  455.114990  70.889999  186.595001  390.295013  225.330002\n",
       "\n",
       "[1257 rows x 5 columns]"
      ]
     },
     "execution_count": 55,
     "metadata": {},
     "output_type": "execute_result"
    }
   ],
   "source": [
    "# Create an empty DataFrame to store the prices\n",
    "adj_close_df = pd.DataFrame()\n",
    "\n",
    "# Download the closer prices for each ticker\n",
    "for ticker in tickers:\n",
    "    data = yf.download(ticker, start = start_date, end = end_date)\n",
    "    adj_close_df[ticker] = data['Adj Close']\n",
    "    \n",
    "# Display the DataFrame\n",
    "adj_close_df"
   ]
  },
  {
   "cell_type": "markdown",
   "id": "599c7020",
   "metadata": {},
   "source": [
    "# 3: Calculate the Lognormal Returns"
   ]
  },
  {
   "cell_type": "markdown",
   "id": "5687e09e",
   "metadata": {},
   "source": [
    "We are using the Lognormal Returns because they can be added to each other to find the final return."
   ]
  },
  {
   "cell_type": "code",
   "execution_count": 56,
   "id": "1e7a47b2",
   "metadata": {},
   "outputs": [],
   "source": [
    "log_returns = np.log(adj_close_df / adj_close_df.shift(1))"
   ]
  },
  {
   "cell_type": "code",
   "execution_count": 57,
   "id": "e184d793",
   "metadata": {},
   "outputs": [
    {
     "data": {
      "text/html": [
       "<div>\n",
       "<style scoped>\n",
       "    .dataframe tbody tr th:only-of-type {\n",
       "        vertical-align: middle;\n",
       "    }\n",
       "\n",
       "    .dataframe tbody tr th {\n",
       "        vertical-align: top;\n",
       "    }\n",
       "\n",
       "    .dataframe thead th {\n",
       "        text-align: right;\n",
       "    }\n",
       "</style>\n",
       "<table border=\"1\" class=\"dataframe\">\n",
       "  <thead>\n",
       "    <tr style=\"text-align: right;\">\n",
       "      <th></th>\n",
       "      <th>SPY</th>\n",
       "      <th>BND</th>\n",
       "      <th>GLD</th>\n",
       "      <th>QQQ</th>\n",
       "      <th>VTI</th>\n",
       "    </tr>\n",
       "    <tr>\n",
       "      <th>Date</th>\n",
       "      <th></th>\n",
       "      <th></th>\n",
       "      <th></th>\n",
       "      <th></th>\n",
       "      <th></th>\n",
       "    </tr>\n",
       "  </thead>\n",
       "  <tbody>\n",
       "    <tr>\n",
       "      <th>2018-11-29</th>\n",
       "      <td>-0.002187</td>\n",
       "      <td>0.000769</td>\n",
       "      <td>0.003115</td>\n",
       "      <td>-0.003265</td>\n",
       "      <td>-0.001851</td>\n",
       "    </tr>\n",
       "    <tr>\n",
       "      <th>2018-11-30</th>\n",
       "      <td>0.006077</td>\n",
       "      <td>0.000384</td>\n",
       "      <td>-0.001729</td>\n",
       "      <td>0.007229</td>\n",
       "      <td>0.007171</td>\n",
       "    </tr>\n",
       "    <tr>\n",
       "      <th>2018-12-03</th>\n",
       "      <td>0.013154</td>\n",
       "      <td>0.001564</td>\n",
       "      <td>0.007502</td>\n",
       "      <td>0.017325</td>\n",
       "      <td>0.011606</td>\n",
       "    </tr>\n",
       "    <tr>\n",
       "      <th>2018-12-04</th>\n",
       "      <td>-0.032939</td>\n",
       "      <td>0.002431</td>\n",
       "      <td>0.006081</td>\n",
       "      <td>-0.039112</td>\n",
       "      <td>-0.033202</td>\n",
       "    </tr>\n",
       "    <tr>\n",
       "      <th>2018-12-06</th>\n",
       "      <td>-0.001518</td>\n",
       "      <td>0.001787</td>\n",
       "      <td>0.000171</td>\n",
       "      <td>0.007035</td>\n",
       "      <td>-0.001230</td>\n",
       "    </tr>\n",
       "    <tr>\n",
       "      <th>...</th>\n",
       "      <td>...</td>\n",
       "      <td>...</td>\n",
       "      <td>...</td>\n",
       "      <td>...</td>\n",
       "      <td>...</td>\n",
       "    </tr>\n",
       "    <tr>\n",
       "      <th>2023-11-20</th>\n",
       "      <td>0.007668</td>\n",
       "      <td>0.001415</td>\n",
       "      <td>-0.001635</td>\n",
       "      <td>0.012101</td>\n",
       "      <td>0.007502</td>\n",
       "    </tr>\n",
       "    <tr>\n",
       "      <th>2023-11-21</th>\n",
       "      <td>-0.002182</td>\n",
       "      <td>0.001413</td>\n",
       "      <td>0.010740</td>\n",
       "      <td>-0.005826</td>\n",
       "      <td>-0.002717</td>\n",
       "    </tr>\n",
       "    <tr>\n",
       "      <th>2023-11-22</th>\n",
       "      <td>0.003853</td>\n",
       "      <td>0.000847</td>\n",
       "      <td>-0.004271</td>\n",
       "      <td>0.004085</td>\n",
       "      <td>0.004273</td>\n",
       "    </tr>\n",
       "    <tr>\n",
       "      <th>2023-11-24</th>\n",
       "      <td>0.000615</td>\n",
       "      <td>-0.004807</td>\n",
       "      <td>0.005188</td>\n",
       "      <td>-0.001411</td>\n",
       "      <td>0.001065</td>\n",
       "    </tr>\n",
       "    <tr>\n",
       "      <th>2023-11-27</th>\n",
       "      <td>-0.000406</td>\n",
       "      <td>0.004666</td>\n",
       "      <td>0.005778</td>\n",
       "      <td>0.002013</td>\n",
       "      <td>-0.000222</td>\n",
       "    </tr>\n",
       "  </tbody>\n",
       "</table>\n",
       "<p>1256 rows × 5 columns</p>\n",
       "</div>"
      ],
      "text/plain": [
       "                 SPY       BND       GLD       QQQ       VTI\n",
       "Date                                                        \n",
       "2018-11-29 -0.002187  0.000769  0.003115 -0.003265 -0.001851\n",
       "2018-11-30  0.006077  0.000384 -0.001729  0.007229  0.007171\n",
       "2018-12-03  0.013154  0.001564  0.007502  0.017325  0.011606\n",
       "2018-12-04 -0.032939  0.002431  0.006081 -0.039112 -0.033202\n",
       "2018-12-06 -0.001518  0.001787  0.000171  0.007035 -0.001230\n",
       "...              ...       ...       ...       ...       ...\n",
       "2023-11-20  0.007668  0.001415 -0.001635  0.012101  0.007502\n",
       "2023-11-21 -0.002182  0.001413  0.010740 -0.005826 -0.002717\n",
       "2023-11-22  0.003853  0.000847 -0.004271  0.004085  0.004273\n",
       "2023-11-24  0.000615 -0.004807  0.005188 -0.001411  0.001065\n",
       "2023-11-27 -0.000406  0.004666  0.005778  0.002013 -0.000222\n",
       "\n",
       "[1256 rows x 5 columns]"
      ]
     },
     "execution_count": 57,
     "metadata": {},
     "output_type": "execute_result"
    }
   ],
   "source": [
    "# We drop the first row because they all or missing values\n",
    "log_returns = log_returns.dropna()\n",
    "log_returns"
   ]
  },
  {
   "cell_type": "markdown",
   "id": "86bd6da8",
   "metadata": {},
   "source": [
    "# 4: Calculate Covariance Matrix"
   ]
  },
  {
   "cell_type": "markdown",
   "id": "eb8a6563",
   "metadata": {},
   "source": [
    "The cov_matrix argument is a matrix that represents the covariance between the returns of the assets. Covariance measures how two assets move in relation to each other. This matrix is typically square, with its size depending on the number of assets in the portfolio."
   ]
  },
  {
   "cell_type": "code",
   "execution_count": 58,
   "id": "21e3f572",
   "metadata": {},
   "outputs": [],
   "source": [
    "# Calculate Covariance Matrix using annualized log returns\n",
    "\n",
    "cov_matrix = log_returns.cov()*252 # 252 is the typical number \n",
    "                                   # of trading days in a year"
   ]
  },
  {
   "cell_type": "code",
   "execution_count": 59,
   "id": "2c1da41f",
   "metadata": {},
   "outputs": [
    {
     "data": {
      "text/html": [
       "<div>\n",
       "<style scoped>\n",
       "    .dataframe tbody tr th:only-of-type {\n",
       "        vertical-align: middle;\n",
       "    }\n",
       "\n",
       "    .dataframe tbody tr th {\n",
       "        vertical-align: top;\n",
       "    }\n",
       "\n",
       "    .dataframe thead th {\n",
       "        text-align: right;\n",
       "    }\n",
       "</style>\n",
       "<table border=\"1\" class=\"dataframe\">\n",
       "  <thead>\n",
       "    <tr style=\"text-align: right;\">\n",
       "      <th></th>\n",
       "      <th>SPY</th>\n",
       "      <th>BND</th>\n",
       "      <th>GLD</th>\n",
       "      <th>QQQ</th>\n",
       "      <th>VTI</th>\n",
       "    </tr>\n",
       "  </thead>\n",
       "  <tbody>\n",
       "    <tr>\n",
       "      <th>SPY</th>\n",
       "      <td>0.045724</td>\n",
       "      <td>0.002568</td>\n",
       "      <td>0.003100</td>\n",
       "      <td>0.051666</td>\n",
       "      <td>0.046740</td>\n",
       "    </tr>\n",
       "    <tr>\n",
       "      <th>BND</th>\n",
       "      <td>0.002568</td>\n",
       "      <td>0.004493</td>\n",
       "      <td>0.003708</td>\n",
       "      <td>0.003188</td>\n",
       "      <td>0.002721</td>\n",
       "    </tr>\n",
       "    <tr>\n",
       "      <th>GLD</th>\n",
       "      <td>0.003100</td>\n",
       "      <td>0.003708</td>\n",
       "      <td>0.022074</td>\n",
       "      <td>0.004376</td>\n",
       "      <td>0.003250</td>\n",
       "    </tr>\n",
       "    <tr>\n",
       "      <th>QQQ</th>\n",
       "      <td>0.051666</td>\n",
       "      <td>0.003188</td>\n",
       "      <td>0.004376</td>\n",
       "      <td>0.067004</td>\n",
       "      <td>0.052768</td>\n",
       "    </tr>\n",
       "    <tr>\n",
       "      <th>VTI</th>\n",
       "      <td>0.046740</td>\n",
       "      <td>0.002721</td>\n",
       "      <td>0.003250</td>\n",
       "      <td>0.052768</td>\n",
       "      <td>0.048152</td>\n",
       "    </tr>\n",
       "  </tbody>\n",
       "</table>\n",
       "</div>"
      ],
      "text/plain": [
       "          SPY       BND       GLD       QQQ       VTI\n",
       "SPY  0.045724  0.002568  0.003100  0.051666  0.046740\n",
       "BND  0.002568  0.004493  0.003708  0.003188  0.002721\n",
       "GLD  0.003100  0.003708  0.022074  0.004376  0.003250\n",
       "QQQ  0.051666  0.003188  0.004376  0.067004  0.052768\n",
       "VTI  0.046740  0.002721  0.003250  0.052768  0.048152"
      ]
     },
     "execution_count": 59,
     "metadata": {},
     "output_type": "execute_result"
    }
   ],
   "source": [
    "cov_matrix"
   ]
  },
  {
   "cell_type": "markdown",
   "id": "00db2436",
   "metadata": {},
   "source": [
    "# 5: Define Portfolio Performance Metrics"
   ]
  },
  {
   "cell_type": "markdown",
   "id": "5d573f9a",
   "metadata": {},
   "source": [
    "## 5.1. Calculate the portfolio standard deviation"
   ]
  },
  {
   "cell_type": "markdown",
   "id": "8c4c56d8",
   "metadata": {},
   "source": [
    "``variance = weights.T @ cov_matrix @ weights`` calculates the variance of the portfolio. \n",
    "\n",
    "Let's break it down further:\n",
    "- ``weights.T``: This represents the transpose of the weights array. Transposing converts a row vector into a column vector (or vice versa).\n",
    "- ``@``: This symbol represents matrix multiplication.\n",
    "- ``np.sqrt``: This is a function from the NumPy library that calculates the square root of a given number or array.\n",
    "\n",
    "The expression performs a matrix multiplication in the following order: first, it multiplies the transposed weights vector with the covariance matrix, and then the result of that multiplication is multiplied with the original weights vector.\n",
    "\n",
    "This operation essentially weights the covariance matrix by the proportion of each asset in the portfolio and sums up the result, yielding the portfolio's variance. Then, the STD is computed."
   ]
  },
  {
   "cell_type": "code",
   "execution_count": 60,
   "id": "e2bef39d",
   "metadata": {},
   "outputs": [],
   "source": [
    "def standard_deviation(weights, cov_matrix):\n",
    "    variance = weights.T @ cov_matrix @ weights\n",
    "    return np.sqrt(variance)"
   ]
  },
  {
   "cell_type": "markdown",
   "id": "70ddc5b8",
   "metadata": {},
   "source": [
    "## 5.2. Calculate the expected return"
   ]
  },
  {
   "cell_type": "markdown",
   "id": "b0639402",
   "metadata": {},
   "source": [
    "**Note:** We assume that the expected returns are the average of the past returns. This is an assumption that in real life would be too weak."
   ]
  },
  {
   "cell_type": "code",
   "execution_count": 61,
   "id": "2d5fa0bf",
   "metadata": {},
   "outputs": [],
   "source": [
    "# Compute the expected return\n",
    "def expected_return(weights, log_returns):\n",
    "    return np.sum(log_returns.mean()*weights)*252"
   ]
  },
  {
   "cell_type": "markdown",
   "id": "57add726",
   "metadata": {},
   "source": [
    "## 5.3. Calculate the Sharpe Ratio"
   ]
  },
  {
   "cell_type": "markdown",
   "id": "ce1fddd7",
   "metadata": {},
   "source": [
    "The Sharpe Ratio is a widely used metric to evaluate the risk-adjusted performance of an investment or a trading strategy. It measures how much excess return you are receiving for the extra volatility that you endure for holding a riskier asset compared to a risk-free asset."
   ]
  },
  {
   "cell_type": "markdown",
   "id": "11068a19",
   "metadata": {},
   "source": [
    "**The mathematical definition is:**\n",
    "\n",
    "The Sharpe Ratio is defined as the difference between the returns of the investment and the risk-free rate, divided by the standard deviation of the investment's excess return (which is a measure of its volatility or risk).\n",
    "\n",
    "$$\n",
    "\\text{Sharpe Ratio} = \\frac{R_p - R_f}{\\sigma_p}\n",
    "$$"
   ]
  },
  {
   "cell_type": "code",
   "execution_count": 62,
   "id": "075bcd77",
   "metadata": {},
   "outputs": [],
   "source": [
    "def sharpe_ratio(weights, log_returns, cov_matrix, risk_free_rate):\n",
    "    return (expected_return(weights, log_returns)-risk_free_rate) / standard_deviation(weights, cov_matrix)"
   ]
  },
  {
   "cell_type": "markdown",
   "id": "4d923569",
   "metadata": {},
   "source": [
    "## 5.4. Find the Risk-Free Rate"
   ]
  },
  {
   "cell_type": "markdown",
   "id": "06e52d7a",
   "metadata": {},
   "source": [
    "We assume the ``risk_free_rate`` to be 4%."
   ]
  },
  {
   "cell_type": "code",
   "execution_count": 63,
   "id": "a2b4d224",
   "metadata": {},
   "outputs": [],
   "source": [
    "risk_free_rate = 0.04"
   ]
  },
  {
   "cell_type": "markdown",
   "id": "dcf125a5",
   "metadata": {},
   "source": [
    "# 6: Portfolio Optimization"
   ]
  },
  {
   "cell_type": "markdown",
   "id": "f807e6de",
   "metadata": {},
   "source": [
    "## 6.1. Set the function to optimize"
   ]
  },
  {
   "cell_type": "markdown",
   "id": "2f27eaf0",
   "metadata": {},
   "source": [
    "The function to minimize is the ``sharpe_ratio``. However, since we are going to use ``spicy.optimize.minimize()`` function we need to compute the negative value of the ratop because there is no direct method to find the maximum value of a function. In this way, we will find the most negative value of the ``-sharpe_ratio``."
   ]
  },
  {
   "cell_type": "code",
   "execution_count": 64,
   "id": "e09665ea",
   "metadata": {},
   "outputs": [],
   "source": [
    "def neg_sharpe_ratio(weights, log_returns, cov_matrix, risk_free_rate):\n",
    "    return -sharpe_ratio(weights, log_returns, cov_matrix, risk_free_rate)"
   ]
  },
  {
   "cell_type": "markdown",
   "id": "b65bf9bc",
   "metadata": {},
   "source": [
    "## 6.2. Set the constraints and bounds"
   ]
  },
  {
   "cell_type": "markdown",
   "id": "1ac21a48",
   "metadata": {},
   "source": [
    "We set that the sum of all of them needs to be 1 and the potential maximum and minimum boundaries for the weights. Since the boundaries are between 0 and 0.8, that means that we cannot sell short (min = 0) and that any asset in the portfolio can be more than 80% of our portfolio. This is because we want to avoid to buy a lot of one asset in case this one was too good in the past 5 years."
   ]
  },
  {
   "cell_type": "code",
   "execution_count": 65,
   "id": "89fb8b49",
   "metadata": {},
   "outputs": [],
   "source": [
    "constraints = {'type': 'eq', 'fun': lambda weights: np.sum(weights) - 1}\n",
    "bounds = [(0, 0.8) for weight in range(len(tickers))]"
   ]
  },
  {
   "cell_type": "code",
   "execution_count": 66,
   "id": "f5202c23",
   "metadata": {},
   "outputs": [
    {
     "data": {
      "text/plain": [
       "{'type': 'eq', 'fun': <function __main__.<lambda>(weights)>}"
      ]
     },
     "execution_count": 66,
     "metadata": {},
     "output_type": "execute_result"
    }
   ],
   "source": [
    "constraints"
   ]
  },
  {
   "cell_type": "code",
   "execution_count": 67,
   "id": "45c03fa4",
   "metadata": {
    "scrolled": true
   },
   "outputs": [
    {
     "data": {
      "text/plain": [
       "[(0, 0.8), (0, 0.8), (0, 0.8), (0, 0.8), (0, 0.8)]"
      ]
     },
     "execution_count": 67,
     "metadata": {},
     "output_type": "execute_result"
    }
   ],
   "source": [
    "bounds"
   ]
  },
  {
   "cell_type": "markdown",
   "id": "b3139c9a",
   "metadata": {},
   "source": [
    "## 6.3. Set the initial weights"
   ]
  },
  {
   "cell_type": "code",
   "execution_count": 68,
   "id": "11f6ff02",
   "metadata": {},
   "outputs": [],
   "source": [
    "initial_weights = np.array([1/len(tickers)]*len(tickers))"
   ]
  },
  {
   "cell_type": "code",
   "execution_count": 69,
   "id": "72e9be1d",
   "metadata": {},
   "outputs": [
    {
     "data": {
      "text/plain": [
       "array([0.2, 0.2, 0.2, 0.2, 0.2])"
      ]
     },
     "execution_count": 69,
     "metadata": {},
     "output_type": "execute_result"
    }
   ],
   "source": [
    "initial_weights"
   ]
  },
  {
   "cell_type": "markdown",
   "id": "64a2a60f",
   "metadata": {},
   "source": [
    "## 6.4. Optimize the weights to maximise Sharpe Ratio"
   ]
  },
  {
   "cell_type": "code",
   "execution_count": 70,
   "id": "a06f0e4c",
   "metadata": {},
   "outputs": [],
   "source": [
    "optimized_results = minimize(neg_sharpe_ratio,\n",
    "                             initial_weights,\n",
    "                             args=(log_returns, cov_matrix, risk_free_rate),\n",
    "                             method = 'SLSQP',\n",
    "                             constraints = constraints,\n",
    "                             bounds = bounds)\n",
    "\n",
    "# SLSQP: Sequantial Least Squares Quadratic Programming, \n",
    "# which is a numerical optimization technique suitable \n",
    "# for solving nonlinear optimization problems with constraints "
   ]
  },
  {
   "cell_type": "code",
   "execution_count": 71,
   "id": "701b19e1",
   "metadata": {},
   "outputs": [
    {
     "data": {
      "text/plain": [
       " message: Optimization terminated successfully\n",
       " success: True\n",
       "  status: 0\n",
       "     fun: -0.6131741874560129\n",
       "       x: [ 0.000e+00  0.000e+00  5.394e-01  4.606e-01  0.000e+00]\n",
       "     nit: 5\n",
       "     jac: [-9.753e-02  5.095e-02 -2.643e-01 -2.654e-01 -3.682e-02]\n",
       "    nfev: 30\n",
       "    njev: 5"
      ]
     },
     "execution_count": 71,
     "metadata": {},
     "output_type": "execute_result"
    }
   ],
   "source": [
    "optimized_results"
   ]
  },
  {
   "cell_type": "code",
   "execution_count": 72,
   "id": "ddde1db5",
   "metadata": {},
   "outputs": [
    {
     "data": {
      "text/plain": [
       "array([0.        , 0.        , 0.53942414, 0.46057586, 0.        ])"
      ]
     },
     "execution_count": 72,
     "metadata": {},
     "output_type": "execute_result"
    }
   ],
   "source": [
    "optimal_weights = optimized_results.x\n",
    "optimal_weights"
   ]
  },
  {
   "cell_type": "markdown",
   "id": "b73b657f",
   "metadata": {},
   "source": [
    "# 7: Results"
   ]
  },
  {
   "cell_type": "markdown",
   "id": "089abc26",
   "metadata": {},
   "source": [
    "## 7.1. Summary"
   ]
  },
  {
   "cell_type": "code",
   "execution_count": 73,
   "id": "0cc23b48",
   "metadata": {},
   "outputs": [
    {
     "name": "stdout",
     "output_type": "stream",
     "text": [
      "The optimal weights are:\n",
      "SPY: 0.00\n",
      "BND: 0.00\n",
      "GLD: 0.54\n",
      "QQQ: 0.46\n",
      "VTI: 0.00\n",
      "The expected annual return is: 0.1326\n",
      "The expected volatility is: 0.1510\n",
      "The Sharpe Ratio is: 0.6132\n"
     ]
    }
   ],
   "source": [
    "print('The optimal weights are:')\n",
    "\n",
    "for weight, ticker in zip(optimal_weights, tickers):\n",
    "    print(f\"{ticker}: {weight:.2f}\")\n",
    "\n",
    "portfolio_expected_return = expected_return(optimal_weights, log_returns)\n",
    "portfolio_standard_deviation = standard_deviation(optimal_weights, cov_matrix)\n",
    "portfolio_sharpe_ratio = sharpe_ratio(optimal_weights, log_returns, cov_matrix, risk_free_rate)\n",
    "\n",
    "print(f'The expected annual return is: {portfolio_expected_return:.4f}')\n",
    "print(f'The expected volatility is: {portfolio_standard_deviation:.4f}')\n",
    "print(f'The Sharpe Ratio is: {portfolio_sharpe_ratio:.4f}')\n"
   ]
  },
  {
   "cell_type": "markdown",
   "id": "bb6587af",
   "metadata": {},
   "source": [
    "## 7.2. Visualization"
   ]
  },
  {
   "cell_type": "code",
   "execution_count": 74,
   "id": "76ee98c6",
   "metadata": {},
   "outputs": [
    {
     "data": {
      "image/png": "[encoded data removed]",
      "text/plain": [
       "<Figure size 720x432 with 1 Axes>"
      ]
     },
     "metadata": {
      "needs_background": "light"
     },
     "output_type": "display_data"
    }
   ],
   "source": [
    "import matplotlib.pyplot as plt\n",
    "\n",
    "plt.figure(figsize = (10, 6))\n",
    "plt.bar(tickers, optimal_weights)\n",
    "\n",
    "plt.xlabel('Assets')\n",
    "plt.ylabel('Weights')\n",
    "plt.title('Optimal Weights')\n",
    "\n",
    "plt.show()"
   ]
  },
  {
   "cell_type": "markdown",
   "id": "20f1a899",
   "metadata": {},
   "source": [
    "# 8: Acknowledgement"
   ]
  },
  {
   "cell_type": "markdown",
   "id": "d7271992",
   "metadata": {},
   "source": [
    "This tutorial has been conducted following the video 'Portfolio Optimization in Python: Boost Your Financial Performance', by Ryan O'Connell. <br>\n",
    "Video available at: <br>\n",
    "https://www.youtube.com/watch?v=9GA2WlYFeBU&ab_channel=RyanO%27Connell%2CCFA%2CFRM"
   ]
  },
  {
   "cell_type": "code",
   "execution_count": null,
   "id": "90e143b6",
   "metadata": {},
   "outputs": [],
   "source": []
  }
 ],
 "metadata": {
  "kernelspec": {
   "display_name": "Python 3 (ipykernel)",
   "language": "python",
   "name": "python3"
  },
  "language_info": {
   "codemirror_mode": {
    "name": "ipython",
    "version": 3
   },
   "file_extension": ".py",
   "mimetype": "text/x-python",
   "name": "python",
   "nbconvert_exporter": "python",
   "pygments_lexer": "ipython3",
   "version": "3.9.12"
  }
 },
 "nbformat": 4,
 "nbformat_minor": 5
}
