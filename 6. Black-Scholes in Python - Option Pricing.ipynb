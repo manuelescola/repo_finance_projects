{
 "cells": [
  {
   "cell_type": "markdown",
   "id": "c8370be5",
   "metadata": {},
   "source": [
    "# Goal of the notebook"
   ]
  },
  {
   "cell_type": "markdown",
   "id": "0764fbdd",
   "metadata": {},
   "source": [
    "This notebook pretends to implement the Black-Scholes formula for Option pricing."
   ]
  },
  {
   "cell_type": "markdown",
   "id": "d9f24619",
   "metadata": {},
   "source": [
    "# Import libraries"
   ]
  },
  {
   "cell_type": "code",
   "execution_count": 41,
   "id": "d66e29bf",
   "metadata": {},
   "outputs": [],
   "source": [
    "import math\n",
    "from scipy.stats import norm"
   ]
  },
  {
   "cell_type": "markdown",
   "id": "76c5d177",
   "metadata": {},
   "source": [
    "# Define variables"
   ]
  },
  {
   "cell_type": "code",
   "execution_count": 42,
   "id": "27ed3ef1",
   "metadata": {},
   "outputs": [],
   "source": [
    "S = 45 # Underlying Price\n",
    "K = 40 # Strike Price\n",
    "T = 0.5 # Time to Expiration (e.g., 6 months from now)\n",
    "r = 0.1 # Risk-Free Rate (e.g., 10 years US bond)\n",
    "vol = 0.2 # Volatility (std)"
   ]
  },
  {
   "cell_type": "markdown",
   "id": "b41511e1",
   "metadata": {},
   "source": [
    "# Calculate d1 and d2"
   ]
  },
  {
   "cell_type": "code",
   "execution_count": 43,
   "id": "d01f1eba",
   "metadata": {},
   "outputs": [],
   "source": [
    "d1 = (math.log(S/K) + (r + 0.5 * vol**2) * T) / (vol * math.sqrt(T))"
   ]
  },
  {
   "cell_type": "code",
   "execution_count": 44,
   "id": "979b18c0",
   "metadata": {},
   "outputs": [],
   "source": [
    "d2 = d1 - (vol * math.sqrt(T))"
   ]
  },
  {
   "cell_type": "markdown",
   "id": "60194215",
   "metadata": {},
   "source": [
    "# Calculate Call Option Price"
   ]
  },
  {
   "cell_type": "code",
   "execution_count": 45,
   "id": "f2b31c46",
   "metadata": {},
   "outputs": [],
   "source": [
    " call_price = S * norm.cdf(d1) - K * math.exp(-r*T) * norm.cdf(d2)"
   ]
  },
  {
   "cell_type": "markdown",
   "id": "95fcebce",
   "metadata": {},
   "source": [
    "# Calculate Put Option Price"
   ]
  },
  {
   "cell_type": "code",
   "execution_count": 46,
   "id": "7e9a18fa",
   "metadata": {},
   "outputs": [],
   "source": [
    " put_price = K * math.exp(-r*T) * norm.cdf(-d2) - S * norm.cdf(-d1)"
   ]
  },
  {
   "cell_type": "markdown",
   "id": "bc2f22e9",
   "metadata": {},
   "source": [
    "# Results"
   ]
  },
  {
   "cell_type": "code",
   "execution_count": 47,
   "id": "5bf9791b",
   "metadata": {},
   "outputs": [
    {
     "name": "stdout",
     "output_type": "stream",
     "text": [
      "Value for d1: 1.2571\n",
      "Value for d2: 1.1157\n",
      "Price for Call option ($): 7.2878\n",
      "Price for Put option ($): 0.337\n"
     ]
    }
   ],
   "source": [
    "print(f'Value for d1: {round(d1, 4)}')\n",
    "print(f'Value for d2: {round(d2, 4)}')\n",
    "print(f'Price for Call option ($): {round(call_price, 4)}')\n",
    "print(f'Price for Put option ($): {round(put_price, 4)}')"
   ]
  },
  {
   "cell_type": "markdown",
   "id": "20f1a899",
   "metadata": {},
   "source": [
    "# Acknowledgement"
   ]
  },
  {
   "cell_type": "markdown",
   "id": "d7271992",
   "metadata": {},
   "source": [
    "This tutorial has been conducted following the video 'Black-Scholes in Python: Option Pricing Made Easy', by Ryan O'Connell. <br>\n",
    "Video available at: <br>\n",
    "https://www.youtube.com/watch?v=Svmu_O6MH-4&list=PLPe-_ytPHqyg4ap7hysD4pOBJMz0mnLly&index=7&ab_channel=RyanO%27Connell%2CCFA%2CFRM"
   ]
  },
  {
   "cell_type": "code",
   "execution_count": null,
   "id": "54e8e834",
   "metadata": {},
   "outputs": [],
   "source": []
  }
 ],
 "metadata": {
  "kernelspec": {
   "display_name": "Python 3 (ipykernel)",
   "language": "python",
   "name": "python3"
  },
  "language_info": {
   "codemirror_mode": {
    "name": "ipython",
    "version": 3
   },
   "file_extension": ".py",
   "mimetype": "text/x-python",
   "name": "python",
   "nbconvert_exporter": "python",
   "pygments_lexer": "ipython3",
   "version": "3.9.12"
  }
 },
 "nbformat": 4,
 "nbformat_minor": 5
}
