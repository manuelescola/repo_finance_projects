{
 "cells": [
  {
   "cell_type": "markdown",
   "id": "25c14b1e",
   "metadata": {},
   "source": [
    "# Import libraries"
   ]
  },
  {
   "cell_type": "code",
   "execution_count": 3,
   "id": "6933b92a",
   "metadata": {},
   "outputs": [],
   "source": [
    "import numpy as np\n",
    "import pandas as pd\n",
    "from datetime import datetime, timedelta\n",
    "import yfinance as yf\n",
    "import matplotlib.pyplot as plt\n",
    "from scipy.stats import norm"
   ]
  },
  {
   "cell_type": "markdown",
   "id": "0e20b350",
   "metadata": {},
   "source": [
    "# 1. Download data"
   ]
  },
  {
   "cell_type": "code",
   "execution_count": 23,
   "id": "5910ec48",
   "metadata": {},
   "outputs": [],
   "source": [
    "years = 15\n",
    "\n",
    "end_date = datetime.now()\n",
    "start_date = end_date - timedelta(days=years*365)"
   ]
  },
  {
   "cell_type": "code",
   "execution_count": 24,
   "id": "7a5f2f94",
   "metadata": {},
   "outputs": [],
   "source": [
    "tickers = ['SPY', 'BND', 'GLD', 'QQQ', 'VTI']"
   ]
  },
  {
   "cell_type": "code",
   "execution_count": 25,
   "id": "11cb3532",
   "metadata": {
    "scrolled": true
   },
   "outputs": [
    {
     "name": "stdout",
     "output_type": "stream",
     "text": [
      "[*********************100%%**********************]  1 of 1 completed\n",
      "[*********************100%%**********************]  1 of 1 completed\n",
      "[*********************100%%**********************]  1 of 1 completed\n",
      "[*********************100%%**********************]  1 of 1 completed\n",
      "[*********************100%%**********************]  1 of 1 completed\n"
     ]
    }
   ],
   "source": [
    "adj_close_df = pd.DataFrame()\n",
    "\n",
    "for ticker in tickers:\n",
    "    data = yf.download(ticker, start = start_date, end = end_date)\n",
    "    adj_close_df[ticker] = data['Adj Close']"
   ]
  },
  {
   "cell_type": "code",
   "execution_count": 28,
   "id": "42f73c72",
   "metadata": {},
   "outputs": [
    {
     "data": {
      "text/html": [
       "<div>\n",
       "<style scoped>\n",
       "    .dataframe tbody tr th:only-of-type {\n",
       "        vertical-align: middle;\n",
       "    }\n",
       "\n",
       "    .dataframe tbody tr th {\n",
       "        vertical-align: top;\n",
       "    }\n",
       "\n",
       "    .dataframe thead th {\n",
       "        text-align: right;\n",
       "    }\n",
       "</style>\n",
       "<table border=\"1\" class=\"dataframe\">\n",
       "  <thead>\n",
       "    <tr style=\"text-align: right;\">\n",
       "      <th></th>\n",
       "      <th>SPY</th>\n",
       "      <th>BND</th>\n",
       "      <th>GLD</th>\n",
       "      <th>QQQ</th>\n",
       "      <th>VTI</th>\n",
       "    </tr>\n",
       "    <tr>\n",
       "      <th>Date</th>\n",
       "      <th></th>\n",
       "      <th></th>\n",
       "      <th></th>\n",
       "      <th></th>\n",
       "      <th></th>\n",
       "    </tr>\n",
       "  </thead>\n",
       "  <tbody>\n",
       "    <tr>\n",
       "      <th>2008-12-01</th>\n",
       "      <td>61.450481</td>\n",
       "      <td>49.282413</td>\n",
       "      <td>75.650002</td>\n",
       "      <td>23.557209</td>\n",
       "      <td>30.400911</td>\n",
       "    </tr>\n",
       "    <tr>\n",
       "      <th>2008-12-02</th>\n",
       "      <td>63.815403</td>\n",
       "      <td>49.581364</td>\n",
       "      <td>76.949997</td>\n",
       "      <td>24.344484</td>\n",
       "      <td>31.599167</td>\n",
       "    </tr>\n",
       "    <tr>\n",
       "      <th>2008-12-03</th>\n",
       "      <td>65.349617</td>\n",
       "      <td>49.347389</td>\n",
       "      <td>76.180000</td>\n",
       "      <td>25.035547</td>\n",
       "      <td>32.413078</td>\n",
       "    </tr>\n",
       "    <tr>\n",
       "      <th>2008-12-04</th>\n",
       "      <td>63.837864</td>\n",
       "      <td>49.561836</td>\n",
       "      <td>75.500000</td>\n",
       "      <td>24.326996</td>\n",
       "      <td>31.448441</td>\n",
       "    </tr>\n",
       "    <tr>\n",
       "      <th>2008-12-05</th>\n",
       "      <td>65.806145</td>\n",
       "      <td>49.197933</td>\n",
       "      <td>74.519997</td>\n",
       "      <td>25.315468</td>\n",
       "      <td>32.563793</td>\n",
       "    </tr>\n",
       "  </tbody>\n",
       "</table>\n",
       "</div>"
      ],
      "text/plain": [
       "                  SPY        BND        GLD        QQQ        VTI\n",
       "Date                                                             \n",
       "2008-12-01  61.450481  49.282413  75.650002  23.557209  30.400911\n",
       "2008-12-02  63.815403  49.581364  76.949997  24.344484  31.599167\n",
       "2008-12-03  65.349617  49.347389  76.180000  25.035547  32.413078\n",
       "2008-12-04  63.837864  49.561836  75.500000  24.326996  31.448441\n",
       "2008-12-05  65.806145  49.197933  74.519997  25.315468  32.563793"
      ]
     },
     "execution_count": 28,
     "metadata": {},
     "output_type": "execute_result"
    }
   ],
   "source": [
    "adj_close_df.head()"
   ]
  },
  {
   "cell_type": "markdown",
   "id": "b2e76e00",
   "metadata": {},
   "source": [
    "# 2. Compute the log returns"
   ]
  },
  {
   "cell_type": "code",
   "execution_count": 31,
   "id": "7966a454",
   "metadata": {
    "scrolled": true
   },
   "outputs": [
    {
     "data": {
      "text/html": [
       "<div>\n",
       "<style scoped>\n",
       "    .dataframe tbody tr th:only-of-type {\n",
       "        vertical-align: middle;\n",
       "    }\n",
       "\n",
       "    .dataframe tbody tr th {\n",
       "        vertical-align: top;\n",
       "    }\n",
       "\n",
       "    .dataframe thead th {\n",
       "        text-align: right;\n",
       "    }\n",
       "</style>\n",
       "<table border=\"1\" class=\"dataframe\">\n",
       "  <thead>\n",
       "    <tr style=\"text-align: right;\">\n",
       "      <th></th>\n",
       "      <th>SPY</th>\n",
       "      <th>BND</th>\n",
       "      <th>GLD</th>\n",
       "      <th>QQQ</th>\n",
       "      <th>VTI</th>\n",
       "    </tr>\n",
       "    <tr>\n",
       "      <th>Date</th>\n",
       "      <th></th>\n",
       "      <th></th>\n",
       "      <th></th>\n",
       "      <th></th>\n",
       "      <th></th>\n",
       "    </tr>\n",
       "  </thead>\n",
       "  <tbody>\n",
       "    <tr>\n",
       "      <th>2008-12-02</th>\n",
       "      <td>0.037763</td>\n",
       "      <td>0.006048</td>\n",
       "      <td>0.017038</td>\n",
       "      <td>0.032873</td>\n",
       "      <td>0.038658</td>\n",
       "    </tr>\n",
       "    <tr>\n",
       "      <th>2008-12-03</th>\n",
       "      <td>0.023757</td>\n",
       "      <td>-0.004730</td>\n",
       "      <td>-0.010057</td>\n",
       "      <td>0.027991</td>\n",
       "      <td>0.025431</td>\n",
       "    </tr>\n",
       "    <tr>\n",
       "      <th>2008-12-04</th>\n",
       "      <td>-0.023405</td>\n",
       "      <td>0.004336</td>\n",
       "      <td>-0.008966</td>\n",
       "      <td>-0.028710</td>\n",
       "      <td>-0.030213</td>\n",
       "    </tr>\n",
       "    <tr>\n",
       "      <th>2008-12-05</th>\n",
       "      <td>0.030367</td>\n",
       "      <td>-0.007369</td>\n",
       "      <td>-0.013065</td>\n",
       "      <td>0.039829</td>\n",
       "      <td>0.034852</td>\n",
       "    </tr>\n",
       "    <tr>\n",
       "      <th>2008-12-08</th>\n",
       "      <td>0.034318</td>\n",
       "      <td>-0.004368</td>\n",
       "      <td>0.022294</td>\n",
       "      <td>0.038636</td>\n",
       "      <td>0.037475</td>\n",
       "    </tr>\n",
       "  </tbody>\n",
       "</table>\n",
       "</div>"
      ],
      "text/plain": [
       "                 SPY       BND       GLD       QQQ       VTI\n",
       "Date                                                        \n",
       "2008-12-02  0.037763  0.006048  0.017038  0.032873  0.038658\n",
       "2008-12-03  0.023757 -0.004730 -0.010057  0.027991  0.025431\n",
       "2008-12-04 -0.023405  0.004336 -0.008966 -0.028710 -0.030213\n",
       "2008-12-05  0.030367 -0.007369 -0.013065  0.039829  0.034852\n",
       "2008-12-08  0.034318 -0.004368  0.022294  0.038636  0.037475"
      ]
     },
     "execution_count": 31,
     "metadata": {},
     "output_type": "execute_result"
    }
   ],
   "source": [
    "log_returns = np.log(adj_close_df/adj_close_df.shift(1))\n",
    "log_returns.dropna(inplace=True)\n",
    "log_returns.head()"
   ]
  },
  {
   "cell_type": "markdown",
   "id": "087e6746",
   "metadata": {},
   "source": [
    "# 3. Create equally weighted portfolio"
   ]
  },
  {
   "cell_type": "markdown",
   "id": "656af014",
   "metadata": {},
   "source": [
    "## 3.1. Creating the weights"
   ]
  },
  {
   "cell_type": "code",
   "execution_count": 33,
   "id": "bcc4d98a",
   "metadata": {},
   "outputs": [
    {
     "data": {
      "text/plain": [
       "array([0.2, 0.2, 0.2, 0.2, 0.2])"
      ]
     },
     "execution_count": 33,
     "metadata": {},
     "output_type": "execute_result"
    }
   ],
   "source": [
    "portfolio_value = 1000000\n",
    "weights = np.array([1/len(tickers)]*len(tickers))\n",
    "weights"
   ]
  },
  {
   "cell_type": "markdown",
   "id": "47aaab2a",
   "metadata": {},
   "source": [
    "## 3.2. Computing portfolio returns"
   ]
  },
  {
   "cell_type": "code",
   "execution_count": 38,
   "id": "299396f8",
   "metadata": {
    "scrolled": false
   },
   "outputs": [
    {
     "data": {
      "text/plain": [
       "Date\n",
       "2008-12-02    0.026476\n",
       "2008-12-03    0.012479\n",
       "2008-12-04   -0.017392\n",
       "2008-12-05    0.016923\n",
       "2008-12-08    0.025671\n",
       "                ...   \n",
       "2023-11-21    0.000285\n",
       "2023-11-22    0.001757\n",
       "2023-11-24    0.000130\n",
       "2023-11-27    0.001765\n",
       "2023-11-28    0.002969\n",
       "Length: 3773, dtype: float64"
      ]
     },
     "execution_count": 38,
     "metadata": {},
     "output_type": "execute_result"
    }
   ],
   "source": [
    "historical_returns = log_returns @ weights\n",
    "historical_returns"
   ]
  },
  {
   "cell_type": "markdown",
   "id": "65842505",
   "metadata": {},
   "source": [
    "## 3.3. Computing returns every X days (we chose 20 days)"
   ]
  },
  {
   "cell_type": "code",
   "execution_count": 47,
   "id": "f5d38f67",
   "metadata": {
    "scrolled": true
   },
   "outputs": [
    {
     "data": {
      "text/plain": [
       "Date\n",
       "2008-12-30    0.089554\n",
       "2008-12-31    0.072084\n",
       "2009-01-02    0.078315\n",
       "2009-01-05    0.090420\n",
       "2009-01-06    0.078715\n",
       "                ...   \n",
       "2023-11-21    0.051908\n",
       "2023-11-22    0.065182\n",
       "2023-11-24    0.071998\n",
       "2023-11-27    0.072481\n",
       "2023-11-28    0.070169\n",
       "Length: 3754, dtype: float64"
      ]
     },
     "execution_count": 47,
     "metadata": {},
     "output_type": "execute_result"
    }
   ],
   "source": [
    "days = 20\n",
    "range_returns = historical_returns.rolling(window=days).sum()\n",
    "range_returns.dropna(inplace=True)\n",
    "range_returns"
   ]
  },
  {
   "cell_type": "markdown",
   "id": "98507d77",
   "metadata": {},
   "source": [
    "# 4. Calculate the VaR using Historical Method"
   ]
  },
  {
   "cell_type": "code",
   "execution_count": 84,
   "id": "c8a6fea2",
   "metadata": {},
   "outputs": [
    {
     "data": {
      "text/plain": [
       "-43067.47520470008"
      ]
     },
     "execution_count": 84,
     "metadata": {},
     "output_type": "execute_result"
    }
   ],
   "source": [
    "confidence_level = 0.95\n",
    "\n",
    "VaR = np.percentile(range_returns, 100*(1-confidence_level))*portfolio_value\n",
    "VaR"
   ]
  },
  {
   "cell_type": "markdown",
   "id": "a7620423",
   "metadata": {},
   "source": [
    "# 5. Visualize the distribution of the returns"
   ]
  },
  {
   "cell_type": "code",
   "execution_count": 71,
   "id": "c9bc0f24",
   "metadata": {},
   "outputs": [],
   "source": [
    "range_returns_money = range_returns*portfolio_value"
   ]
  },
  {
   "cell_type": "code",
   "execution_count": 85,
   "id": "4d665c80",
   "metadata": {
    "scrolled": true
   },
   "outputs": [
    {
     "data": {
      "image/png": "[encoded data removed]",
      "text/plain": [
       "<Figure size 576x216 with 1 Axes>"
      ]
     },
     "metadata": {
      "needs_background": "light"
     },
     "output_type": "display_data"
    }
   ],
   "source": [
    "plt.figure(figsize=(8, 3))\n",
    "plt.hist(range_returns_money, bins=50, density=True)\n",
    "plt.xlabel('Expected Returns')\n",
    "plt.ylabel('Probability')\n",
    "plt.title(f'Expected Returns in a {days} days window')\n",
    "plt.axvline(VaR, color='r', linestyle='dashed', \n",
    "            label=f'VaR at {confidence_level:.0%}\\nconfidence level')\n",
    "plt.legend()\n",
    "plt.show()"
   ]
  },
  {
   "cell_type": "markdown",
   "id": "0c6e2d2b",
   "metadata": {},
   "source": [
    "**Note**:<br>\n",
    "Compared to the Monte Carlo Simulation method, we see that here the distribution has longer tails due to the fact that we are taking all the returns, instead of simulating returns with the mean and standard deviation from the past. This implies that here outliers are shown in the distribution, while in the Monte Carlo method there are not outliers."
   ]
  },
  {
   "cell_type": "markdown",
   "id": "32a0512f",
   "metadata": {},
   "source": [
    "# 6. Compile everything in just one cell to try with different windows"
   ]
  },
  {
   "cell_type": "code",
   "execution_count": 91,
   "id": "540cff8a",
   "metadata": {
    "scrolled": true
   },
   "outputs": [
    {
     "data": {
      "image/png": "[encoded data removed]",
      "text/plain": [
       "<Figure size 576x216 with 1 Axes>"
      ]
     },
     "metadata": {
      "needs_background": "light"
     },
     "output_type": "display_data"
    }
   ],
   "source": [
    "# Set parameters\n",
    "days = 20\n",
    "confidence_level = 0.95\n",
    "\n",
    "# Compute window returns\n",
    "range_returns = (historical_returns.rolling(window=days).sum())\n",
    "range_returns.dropna(inplace=True)\n",
    "range_returns_money = range_returns*portfolio_value\n",
    "\n",
    "# Calculate VaR\n",
    "VaR = np.percentile(range_returns, 100*(1-confidence_level))*portfolio_value\n",
    "\n",
    "# Plot distribution of returns and VaR\n",
    "plt.figure(figsize=(8, 3))\n",
    "plt.hist(range_returns_money, bins=50, density=True)\n",
    "plt.xlabel('Expected Returns')\n",
    "plt.ylabel('Probability')\n",
    "plt.title(f'Expected Returns in a {days} days window')\n",
    "plt.axvline(VaR, color='r', linestyle='dashed', \n",
    "            label=f'VaR at {confidence_level:.0%}\\nconfidence level')\n",
    "plt.legend()\n",
    "plt.show()"
   ]
  },
  {
   "cell_type": "markdown",
   "id": "20f1a899",
   "metadata": {},
   "source": [
    "# 7: Acknowledgement"
   ]
  },
  {
   "cell_type": "markdown",
   "id": "d7271992",
   "metadata": {},
   "source": [
    "This tutorial has been conducted following the video 'Value at Risk (VaR) In Python: Historical Method', by Ryan O'Connell. <br>\n",
    "Video available at: <br>\n",
    "https://www.youtube.com/watch?v=jZJsPi4j7wQ&list=PLPe-_ytPHqyg4ap7hysD4pOBJMz0mnLly&index=6&ab_channel=RyanO%27Connell%2CCFA%2CFRM"
   ]
  },
  {
   "cell_type": "code",
   "execution_count": null,
   "id": "14bae5e9",
   "metadata": {},
   "outputs": [],
   "source": []
  }
 ],
 "metadata": {
  "kernelspec": {
   "display_name": "Python 3 (ipykernel)",
   "language": "python",
   "name": "python3"
  },
  "language_info": {
   "codemirror_mode": {
    "name": "ipython",
    "version": 3
   },
   "file_extension": ".py",
   "mimetype": "text/x-python",
   "name": "python",
   "nbconvert_exporter": "python",
   "pygments_lexer": "ipython3",
   "version": "3.9.12"
  }
 },
 "nbformat": 4,
 "nbformat_minor": 5
}
